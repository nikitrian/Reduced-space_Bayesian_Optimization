{
 "cells": [
  {
   "cell_type": "code",
   "execution_count": 7,
   "metadata": {},
   "outputs": [
    {
     "name": "stdout",
     "output_type": "stream",
     "text": [
      "The line_profiler extension is already loaded. To reload it, use:\n",
      "  %reload_ext line_profiler\n"
     ]
    }
   ],
   "source": [
    "import hysys_python.hysys_object_persistence as hop\n",
    "import hysys_gsa_util as hgu\n",
    "import numpy as np\n",
    "import time as ti\n",
    "from IPython.display import clear_output\n",
    "%load_ext line_profiler"
   ]
  },
  {
   "cell_type": "code",
   "execution_count": 8,
   "metadata": {},
   "outputs": [],
   "source": [
    "filepath = r\"C:\\Users\\nt320\\OneDrive - Imperial College London\\Niki GSA bayesian optimisation\\Submission 2\"\n",
    "file = filepath + r\"\\i-dme-complete-gsa-equil.hsc\"\n",
    "\n",
    "# Creating and connecting to the hysys flowsheet and solve\n",
    "try:\n",
    "    sim = hop.hysys_connection(file, active=1)\n",
    "except:\n",
    "    sim = hop.hysys_connection(file, active=0)\n",
    "\n",
    "fsheet = sim.Flowsheet\n",
    "solver = sim.Solver\n"
   ]
  },
  {
   "cell_type": "code",
   "execution_count": 9,
   "metadata": {},
   "outputs": [],
   "source": [
    "## BOUNDS\n",
    "# electricity prices - 2018-2023 https://tradingeconomics.com/united-kingdom/electricity-price\n",
    "elec_nom = 89.2 # GBP/MWh - 02 Jan 2024\n",
    "elec_nom *= 0.804354 # USD/MWh\n",
    "elec_nom /= 1000 # USD/kWh\n",
    "\n",
    "# For the nominal/range of the MeOH reactor size from van Dal 2013\n",
    "ref_co2_flow = 88e3 # kg/h CO2\n",
    "co2_flow = 28333.3620500565 # kg/h in simulation\n",
    "co2_ratio = co2_flow/ref_co2_flow\n",
    "ref_cat_mass = 44500 # kg catalyst\n",
    "cat_mass = ref_cat_mass*co2_ratio # kg catalyst in simulation\n",
    "void = 0.5\n",
    "density = 1775\n",
    "meoh_nominal_vol = cat_mass * (1/density) * (1/(1-void)) # m3\n",
    "\n",
    "bounds = [[2.4*0.9, 3.6*1.1],       # h2 ratio - +/-20% of stoich\n",
    "        [5000*0.9, 10000*1.1],    # meoh pressure - van-dal2013\n",
    "        [210*0.9, 270*1.1],       # meoh feed temp - van-dal2013\n",
    "        [0, 1],           # adiabatic/isothermal meoh\n",
    "        [0.94, 0.995],      # recycle ratio\n",
    "        [0.8*meoh_nominal_vol*0.9, 1.2*meoh_nominal_vol*1.1], # meoh reactor volume - van-dal2013 +/- 20%\n",
    "        [250*0.9, 300*1.1],       # dme feed temperature - peinado2020    \n",
    "        [1000*0.9, 2000*1.1],     # dme reaction pressure - peinado2020\n",
    "        [0,1],            # feed vapour fraction meoh column\n",
    "        [0,1],            # feed vapour fraction dme-meoh column\n",
    "        [57*0.8*0.9, 57*1.2*1.1], # trays col 1 +/- 20% of nominal\n",
    "        [17*0.8*0.9, 17*1.2*1.1], # trays col 2 +/- 20% of nominal\n",
    "        [44/57*0.8, 44/57*1.2], # relative feed location col 1 +/- 20% of nominal\n",
    "        [10/17*0.8, 10/17*1.2]  # relative feed location col 2 +/- 20% of nominal\n",
    "        ]\n"
   ]
  },
  {
   "cell_type": "code",
   "execution_count": 10,
   "metadata": {},
   "outputs": [],
   "source": [
    "iter =0\n",
    "average_solve_time = 0\n",
    "failures = 0\n",
    "for i in range(iter):\n",
    "    # Preamble\n",
    "    print(f\"Iteration {i+1} of {iter}, {failures} failures\")\n",
    "    print(f\"Average solve time = {average_solve_time}s\")\n",
    "    predicted_seconds = float(average_solve_time) * (iter - i)\n",
    "    predicted_hours = int(predicted_seconds // 3600)\n",
    "    predicted_minutes = int((predicted_seconds % 3600) // 60)\n",
    "    predicted_seconds = int(predicted_seconds % 60)\n",
    "    predicted = f\"{predicted_hours}h {predicted_minutes}m {predicted_seconds}s\"\n",
    "    print(f\"Predicted time remaining = {predicted}\\n\")\n",
    "\n",
    "    # Generating random inputs - SWAP WITH DESIRED GSA INPUTS\n",
    "    inputs = hgu.random_inputs(nominal=False)\n",
    "\n",
    "    # Running the flowsheet\n",
    "    tic = ti.perf_counter()\n",
    "    sim.Visible = False # hiding the simulation improves solve time\n",
    "    out = hgu.solve_calc_flowsheet(fsheet, solver, inputs)\n",
    "\n",
    "    # Printing the results\n",
    "    if type(out) != type(None):\n",
    "        print('DME flowrate         = {:.2f} kg/s'.format(out[0]))\n",
    "        print('Carbon efficiency    = {:.1f}%'.format(out[1]))\n",
    "        print('Energy efficiency    = {:.1f}%'.format(out[5]))\n",
    "        print('CAPEX                = {:.0f} M USD'.format(out[2]/1e6))\n",
    "        print('OPEX                 = {:.0f} M USD'.format(out[3]/1e6))\n",
    "        print('LCP                  = {:.2f} USD/kg'.format(out[4]))\n",
    "    \n",
    "    if type(out[0]) == type(None):\n",
    "        failures += 1\n",
    "\n",
    "    # Performing time calculations\n",
    "    toc = ti.perf_counter()\n",
    "    formatted_elapsed_time = \"{:.2f}\".format(toc-tic)\n",
    "    print(f\"Solved script without unhiding in {formatted_elapsed_time}s\\n\\n\")\n",
    "    average_solve_time = (float(average_solve_time) * i + (toc-tic)) / (i+1)\n",
    "    average_solve_time = \"{:.2f}\".format(average_solve_time)\n",
    "    clear_output(wait=True)\n",
    "\n",
    "sim.Visible = True # unhide the simulation case\n"
   ]
  },
  {
   "cell_type": "code",
   "execution_count": 11,
   "metadata": {},
   "outputs": [],
   "source": [
    "## Test GSA code\n",
    "from SALib.sample import saltelli\n",
    "from SALib.analyze import sobol\n",
    "from IPython.display import clear_output\n",
    "import pandas as pd"
   ]
  },
  {
   "cell_type": "code",
   "execution_count": null,
   "metadata": {},
   "outputs": [
    {
     "name": "stdout",
     "output_type": "stream",
     "text": [
      "5250\n"
     ]
    },
    {
     "name": "stderr",
     "output_type": "stream",
     "text": [
      "C:\\Users\\nt320\\AppData\\Local\\Temp\\ipykernel_8500\\441884004.py:16: DeprecationWarning: `salib.sample.saltelli` will be removed in SALib 1.5. Please use `salib.sample.sobol`\n",
      "  param_values = saltelli.sample(problem, 175, calc_second_order=True)\n",
      "C:\\Users\\nt320\\AppData\\Local\\Programs\\Python\\Python311\\Lib\\site-packages\\SALib\\sample\\saltelli.py:109: UserWarning: \n",
      "        Convergence properties of the Sobol' sequence is only valid if\n",
      "        `N` (175) is equal to `2^n`.\n",
      "        \n",
      "  warnings.warn(msg)\n"
     ]
    }
   ],
   "source": [
    "import numpy as np\n",
    "from datetime import datetime\n",
    "\n",
    "# Set the seed\n",
    "np.random.seed(42)\n",
    "\n",
    "from SALib.sample import sobol_sequence\n",
    "\n",
    "problem = {\n",
    "    'num_vars': 14,\n",
    "    'names': ['h2_ratio','Pmeoh', 'Tmeoh','reactor_mode', 'recycle_ratio', 'Vmeoh', 'Tdme', 'Pdme', 'xmeoh', 'xdme', 'n_trays1', 'n_trays2', 'feed_loc1', 'feed_loc2'],\n",
    "    'bounds': bounds,\n",
    "    'dists': ['unif', 'unif', 'unif', 'unif', 'unif', 'unif', 'unif', 'unif', 'unif', 'unif', 'unif', 'unif', 'unif', 'unif']\n",
    "}\n",
    "\n",
    "param_values = saltelli.sample(problem, 175, calc_second_order=True)\n",
    "# Generate the initial set of Sobol samples\n",
    "print(len(param_values))\n",
    "\n",
    "\n",
    "# Create a DataFrame with the parameter values\n",
    "param_df = pd.DataFrame(param_values, columns=problem['names'])\n",
    "\n",
    "# Save the DataFrame to a CSV file\n",
    "param_df.to_csv('inputs.csv', index=False)"
   ]
  },
  {
   "cell_type": "code",
   "execution_count": null,
   "metadata": {},
   "outputs": [],
   "source": [
    "\n",
    "data = pd.read_csv('inputs.csv')\n",
    "\n",
    "dataset = data\n",
    "\n",
    "#dataset to numpy array\n",
    "param_values = dataset.to_numpy()\n"
   ]
  },
  {
   "cell_type": "code",
   "execution_count": null,
   "metadata": {},
   "outputs": [
    {
     "name": "stdout",
     "output_type": "stream",
     "text": [
      "Iteration 5250 of 5250, 34 failures\n",
      "Average solve time = 15.36s\n",
      "Predicted time remaining = 0h 0m 15s\n",
      "\n",
      "Set inputs in 0.14s\n",
      "Initial solve up to Reactor100 in 0.21s\n",
      "Solved Reactor100 in 0.29s\n",
      "Solved MIX-101_meoh_rcy in 0.11s\n",
      "Solved K-103 in 0.11s\n",
      "Solved Vessel 101 in 0.12s\n",
      "Solved Twp101 in 0.34s\n",
      "Solved V-100 in 0.26s\n",
      "Solved CRV-100 in 0.14s\n",
      "Solved Twb102 in 0.42s\n",
      "Solved MIX-100_met_rcy in 0.41s\n",
      "*** COMPLETE ***\n",
      "Solved flowsheet in 2.45s\n",
      "\n",
      "Sized DME reactor in 2.58s\n",
      "Solved script without unhiding in 6.23s\n",
      "\n",
      "\n"
     ]
    }
   ],
   "source": [
    "columns = ['DME flowrate', 'Carbon efficiency', 'CAPEX', 'OPEX', 'LCP', 'Energy efficiency']\n",
    "df = pd.DataFrame(columns=columns)\n",
    "\n",
    "iter = len(param_values)\n",
    "average_solve_time = 0\n",
    "failures = 0\n",
    "sim.Visible = False # hiding the simulation improves solve time\n",
    "\n",
    "for i in range(len(param_values)):\n",
    "    # Preamble\n",
    "    print(f\"Iteration {i+1} of {iter}, {failures} failures\")\n",
    "    print(f\"Average solve time = {average_solve_time}s\")\n",
    "    predicted_seconds = float(average_solve_time) * (iter - i)\n",
    "    predicted_hours = int(predicted_seconds // 3600)\n",
    "    predicted_minutes = int((predicted_seconds % 3600) // 60)\n",
    "    predicted_seconds = int(predicted_seconds % 60)\n",
    "    predicted = f\"{predicted_hours}h {predicted_minutes}m {predicted_seconds}s\"\n",
    "    print(f\"Predicted time remaining = {predicted}\\n\")\n",
    "\n",
    "\n",
    "    # Running the flowsheet\n",
    "    tic = ti.perf_counter()\n",
    "    try:\n",
    "        out = hgu.solve_calc_flowsheet(fsheet, solver, param_values[i])\n",
    "    except:\n",
    "        out = [None, None, None, None, None, None]\n",
    "\n",
    "    # Create a temporary DataFrame for the current iteration\n",
    "    temp_df = pd.DataFrame([out], columns=columns)\n",
    "\n",
    "    # Append the temporary DataFrame to the main DataFrame\n",
    "    df = pd.concat([df, temp_df], ignore_index=True)\n",
    "   \n",
    "    if type(out[0]) == type(None):\n",
    "        failures += 1\n",
    "\n",
    "            # Save DataFrame periodically (e.g., every 10 iterations)\n",
    "    if i % 100 == 0:\n",
    "        df.to_csv('saved_dataframe.csv')\n",
    "\n",
    "    # Performing time calculations\n",
    "    toc = ti.perf_counter()\n",
    "    formatted_elapsed_time = \"{:.2f}\".format(toc-tic)\n",
    "    print(f\"Solved script without unhiding in {formatted_elapsed_time}s\\n\\n\")\n",
    "    average_solve_time = (float(average_solve_time) * i + (toc-tic)) / (i+1)\n",
    "    average_solve_time = \"{:.2f}\".format(average_solve_time)\n",
    "    clear_output(wait=True)\n",
    "\n",
    "    #sim.Visible = True # unhide the simulation case\n",
    "    \n",
    "\n",
    "\n",
    "df.to_csv('outputs.csv')"
   ]
  }
 ],
 "metadata": {
  "kernelspec": {
   "display_name": "nt_gsa_bo",
   "language": "python",
   "name": "python3"
  },
  "language_info": {
   "codemirror_mode": {
    "name": "ipython",
    "version": 3
   },
   "file_extension": ".py",
   "mimetype": "text/x-python",
   "name": "python",
   "nbconvert_exporter": "python",
   "pygments_lexer": "ipython3",
   "version": "3.11.5"
  }
 },
 "nbformat": 4,
 "nbformat_minor": 2
}
