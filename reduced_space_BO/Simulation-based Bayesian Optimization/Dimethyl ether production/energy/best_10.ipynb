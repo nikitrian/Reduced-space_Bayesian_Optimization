{
 "cells": [
  {
   "cell_type": "code",
   "execution_count": 1,
   "metadata": {},
   "outputs": [],
   "source": [
    "import pandas as pd\n",
    "\n",
    "def is_within_bounds(row, bounds):\n",
    "    # Check each value against the corresponding bound\n",
    "    for val, (low, high) in zip(row, bounds):\n",
    "        if not (low <= val <= high):\n",
    "            return False\n",
    "    return True\n",
    "\n",
    "def save_top_inputs(inputs_path, outputs_path, column_name='Energy efficiency', top_n=20, bounds=[]):\n",
    "    # Load the data from Excel files\n",
    "    inputs_df = pd.read_csv(inputs_path)\n",
    "    outputs_df = pd.read_csv(outputs_path)\n",
    "\n",
    "    # Ensure the column_name exists in the outputs\n",
    "    if column_name not in outputs_df.columns:\n",
    "        raise ValueError(f\"The column {column_name} does not exist in the outputs file.\")\n",
    "\n",
    "    # Apply bounds to inputs and filter data\n",
    "    valid_inputs_df = inputs_df[inputs_df.apply(lambda row: is_within_bounds(row, bounds), axis=1)]\n",
    "\n",
    "    # Check if there are enough valid entries\n",
    "    if len(valid_inputs_df) < top_n:\n",
    "        print(f\"Not enough valid entries found. Only {len(valid_inputs_df)} valid entries available.\")\n",
    "        return \"Not enough valid data.\"\n",
    "\n",
    "    # Find indices of valid inputs\n",
    "    valid_indices = valid_inputs_df.index\n",
    "\n",
    "    # Select corresponding outputs using valid indices\n",
    "    valid_outputs_df = outputs_df.loc[valid_indices]\n",
    "\n",
    "    # Find the top N rows with the smallest values in the specified CAPEX column from the valid outputs\n",
    "    top_outputs = valid_outputs_df.nlargest(top_n, column_name)\n",
    "\n",
    "    # Find associated inputs using the index from top outputs\n",
    "    associated_inputs = inputs_df.loc[top_outputs.index]\n",
    "\n",
    "    # Save the data to CSV files\n",
    "    associated_inputs.to_csv('top_inputs.csv', index=False)\n",
    "    top_outputs[[column_name]].to_csv('top_outputs.csv', index=False)\n",
    "\n",
    "    return \"Files saved successfully, found {} valid outputs.\".format(len(top_outputs))\n",
    "\n",
    "\n",
    "\n",
    "\n"
   ]
  },
  {
   "cell_type": "code",
   "execution_count": 2,
   "metadata": {},
   "outputs": [],
   "source": [
    "## BOUNDS\n",
    "# electricity prices - 2018-2023 https://tradingeconomics.com/united-kingdom/electricity-price\n",
    "elec_nom = 89.2 # GBP/MWh - 02 Jan 2024\n",
    "elec_nom *= 0.804354 # USD/MWh\n",
    "elec_nom /= 1000 # USD/kWh\n",
    "\n",
    "# For the nominal/range of the MeOH reactor size from van Dal 2013\n",
    "ref_co2_flow = 88e3 # kg/h CO2\n",
    "co2_flow = 28333.3620500565 # kg/h in simulation\n",
    "co2_ratio = co2_flow/ref_co2_flow\n",
    "ref_cat_mass = 44500 # kg catalyst\n",
    "cat_mass = ref_cat_mass*co2_ratio # kg catalyst in simulation\n",
    "void = 0.5\n",
    "density = 1775\n",
    "meoh_nominal_vol = cat_mass * (1/density) * (1/(1-void)) # m3\n",
    "bounds = [[2.4, 3.6],       # h2 ratio - +/-20% of stoich\n",
    "        [5000, 10000],    # meoh pressure - van-dal2013\n",
    "        [210, 270],       # meoh feed temp - van-dal2013\n",
    "        [0, 1],           # adiabatic/isothermal meoh\n",
    "        [0.95, 0.991],       # recycle ratio\n",
    "        [0.8*meoh_nominal_vol, 1.2*meoh_nominal_vol], # meoh reactor volume - van-dal2013 +/- 20%\n",
    "        [-float('inf'), float('inf')],       # dme feed temperature - peinado2020    \n",
    "        [1000, 2000],     # dme reaction pressure - peinado2020\n",
    "        [0,1],            # feed vapour fraction meoh column\n",
    "        [0,1],            # feed vapour fraction dme-meoh column\n",
    "        [57*0.8, 57*1.2], # trays col 1 +/- 20% of nominal\n",
    "        [-float('inf'), float('inf')], # trays col 2 +/- 20% of nominal\n",
    "        [44/57*0.8, 44/57*1.2], # relative feed location col 1 +/- 20% of nominal\n",
    "        [-float('inf'), float('inf')]  # relative feed location col 2 +/- 20% of nominal\n",
    "        ]\n",
    "\n",
    "\n"
   ]
  },
  {
   "cell_type": "code",
   "execution_count": 3,
   "metadata": {},
   "outputs": [
    {
     "name": "stdout",
     "output_type": "stream",
     "text": [
      "Files saved successfully, found 20 valid outputs.\n",
      "Execution time: 2.07 seconds\n"
     ]
    }
   ],
   "source": [
    "import time\n",
    "\n",
    "start_time = time.time()\n",
    "\n",
    "\n",
    "inputs_file_path = 'modified_inputs.csv'\n",
    "outputs_file_path = 'modified_outputs.csv'\n",
    "\n",
    "# Usage of the function\n",
    "result = save_top_inputs(inputs_file_path, outputs_file_path, bounds=bounds)\n",
    "print(result)\n",
    "\n",
    "# Your code here\n",
    "time.sleep(2)  # Example code, replace with your actual code\n",
    "\n",
    "end_time = time.time()\n",
    "execution_time = end_time - start_time\n",
    "print(f\"Execution time: {execution_time:.2f} seconds\")"
   ]
  }
 ],
 "metadata": {
  "kernelspec": {
   "display_name": "Python 3",
   "language": "python",
   "name": "python3"
  },
  "language_info": {
   "codemirror_mode": {
    "name": "ipython",
    "version": 3
   },
   "file_extension": ".py",
   "mimetype": "text/x-python",
   "name": "python",
   "nbconvert_exporter": "python",
   "pygments_lexer": "ipython3",
   "version": "3.11.5"
  }
 },
 "nbformat": 4,
 "nbformat_minor": 2
}
