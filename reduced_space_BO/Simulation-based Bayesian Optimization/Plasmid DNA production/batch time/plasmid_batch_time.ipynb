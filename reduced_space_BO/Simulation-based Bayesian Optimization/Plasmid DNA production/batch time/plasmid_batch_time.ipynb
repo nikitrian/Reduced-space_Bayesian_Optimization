{
 "cells": [
  {
   "cell_type": "code",
   "execution_count": null,
   "metadata": {},
   "outputs": [],
   "source": [
    "import pandas as pd\n",
    "import numpy as np\n",
    "import matplotlib.pyplot as plt\n",
    "import torch\n",
    "import utils\n",
    "import tqdm\n",
    "import win32com.client\n",
    "import os\n",
    "\n",
    "device = 'cpu'\n",
    "dtype = torch.float64"
   ]
  },
  {
   "cell_type": "code",
   "execution_count": null,
   "metadata": {},
   "outputs": [],
   "source": [
    "inputs = pd.read_csv('top_inputs.csv')\n",
    "outputs = pd.read_csv('top_outputs.csv')\n"
   ]
  },
  {
   "cell_type": "code",
   "execution_count": null,
   "metadata": {},
   "outputs": [],
   "source": [
    "X = torch.tensor(inputs.values)\n",
    "y = torch.tensor(outputs.values)\n"
   ]
  },
  {
   "cell_type": "code",
   "execution_count": null,
   "metadata": {},
   "outputs": [],
   "source": [
    "\n",
    "\n",
    "def SuperPro2(p, space):\n",
    "\n",
    "    p = unnormalize_x(p, space)\n",
    "    p = p.reshape(-1,1).numpy()\n",
    "\n",
    "    excelObject = win32com.client.Dispatch(\"Excel.Application\")  #instantiate excel app\n",
    "    excelObject.Visible = True\n",
    "    temp1= os.getcwd()+'\\\\pDNA.xlsm'\n",
    "\n",
    "    \n",
    "    wb = excelObject.Workbooks.Open(temp1)\n",
    "\n",
    "    excelObject.Application.Run('BeforeSuperExcelMatlab')\n",
    "\n",
    "    temp3 =np.shape(p)[1]\n",
    "    F =np.zeros((8,1,temp3))\n",
    "    for i in range(temp3):\n",
    "        \n",
    "        \n",
    "        temp4 = excelObject.Application.Run('SuperExcelMatlab', p[0,i], p[1,i], 0.0033, 0.02045, 0.95, p[2,i], p[3,i], 0.204507, \n",
    "                                            0.98, 150, p[4,i], 0.03, np.round(p[5,i]), p[6,i], 0.02, np.round(40), 0.001333, 0.05)                                      \n",
    "\n",
    "\n",
    "        F[0,0,i] = temp4[0] # Formulation concentration (kg/m3)\n",
    "        F[1,0,i] = temp4[1] #  Productivity (kg/batch)\n",
    "        F[2,0,i] = temp4[2] # CAPEX ($)\n",
    "        F[3,0,i] = temp4[3]/temp4[4] # OPEX ($/batch)\n",
    "        F[4,0,i] = temp4[4] # Number of batches (batches/y)\n",
    "        F[5,0,i] = temp4[5] # Batch time (s)\n",
    "        F[6,0,i] = temp4[6] # Cycle time (s)\n",
    "        F[7,0,i] = temp4[3]/(temp4[4]*(temp4[1]/0.001)) # Cost per gram ($/g)\n",
    "        #F[7,0,i] = temp4[3]/temp4[4] # Opex per batch ($/batch)\n",
    "        \n",
    "\n",
    "    excelObject.Application.Run('AfterSuperExcelMatlab')\n",
    "    \n",
    "    wb.Close(False)\n",
    "    excelObject.Application.Quit()\n",
    "\n",
    "\n",
    "    \n",
    "    return torch.from_numpy(F[5,0,:]).unsqueeze(-1)"
   ]
  },
  {
   "cell_type": "code",
   "execution_count": 6,
   "metadata": {},
   "outputs": [],
   "source": [
    "from botorch.models import SingleTaskGP\n",
    "from gpytorch.mlls import ExactMarginalLogLikelihood\n",
    "from botorch.fit import fit_gpytorch_model\n",
    "from gpytorch.kernels import MaternKernel, RBFKernel\n",
    "from botorch.models.transforms import Standardize\n",
    "\n",
    "\n",
    "\n",
    "def initialize_model(X, y, GP=None, state_dict=None, *GP_args, **GP_kwargs):\n",
    "    \"\"\"\n",
    "    Create GP model and fit it. The function also accepts\n",
    "    state_dict which is used as an initialization for the GP model.\n",
    "    \n",
    "    Parameters\n",
    "    ----------\n",
    "    X : torch.tensor, shape=(n_samples, dim)\n",
    "        Input values\n",
    "        \n",
    "    y : torch.tensor, shape=(n_samples,)\n",
    "        Output values\n",
    "        \n",
    "    GP : botorch.models.Model\n",
    "        GP model class\n",
    "        \n",
    "    state_dict : dict\n",
    "        GP model state dict\n",
    "        \n",
    "    Returns\n",
    "    -------\n",
    "    mll : gpytorch.mlls.MarginalLoglikelihood\n",
    "        Marginal loglikelihood\n",
    "    \n",
    "    gp : \n",
    "    \"\"\"\n",
    "\n",
    "    covar_module = MaternKernel(nu=2.5)\n",
    "\n",
    "\n",
    "    if GP is None:\n",
    "        GP = SingleTaskGP\n",
    "        \n",
    "    model = GP(X, y,  outcome_transform=Standardize(1), covar_module = covar_module, *GP_args, **GP_kwargs).to(X)\n",
    "\n",
    "    mll = ExactMarginalLogLikelihood(model.likelihood, model)\n",
    "\n",
    "    # load state dict if it is passed\n",
    "    if state_dict is not None:\n",
    "        model.load_state_dict(state_dict)\n",
    "    return mll, model"
   ]
  },
  {
   "cell_type": "code",
   "execution_count": null,
   "metadata": {},
   "outputs": [],
   "source": [
    "#6. Repeat from step 1\n",
    "from botorch.optim import optimize_acqf\n",
    "def bo_step(X, y, objective, bounds, GP=None, acquisition=None, q=1, state_dict=None, plot=False):\n",
    "\n",
    "    \n",
    "    if y is not None:\n",
    "        mll, gp = initialize_model(X, y, GP=GP, state_dict=state_dict)\n",
    "        fit_gpytorch_model(mll)\n",
    "    \n",
    "    # Create acquisition function\n",
    "    acquisition = acquisition(gp)\n",
    "    inequality_constraints = [(torch.tensor([0, 1]), torch.tensor([-1, 1], dtype=torch.float64), torch.tensor(0.0, dtype=torch.float64)),\n",
    "    (torch.tensor([1, 5]), torch.tensor([-1, 1], dtype=torch.float64), torch.tensor(0, dtype=torch.float64))]\n",
    "    # Optimize acquisition function if y is not None\n",
    "    if y is not None:\n",
    "        candidate = optimize_acqf(\n",
    "            acquisition, bounds=bounds, q=q,  inequality_constraints=None, num_restarts=50, raw_samples=1024,\n",
    "        )\n",
    "       \n",
    "        # Check if objective is not None before updating y\n",
    "        y_new = objective(candidate[0].squeeze())\n",
    "        print('y_new=', y_new)\n",
    "        if y_new is not None:\n",
    "            y = torch.cat([y, y_new])\n",
    "            X = torch.cat([X, candidate[0]])\n",
    "        else: \n",
    "            # Repeat until y_random is not None\n",
    "            while True:\n",
    "                X_random = torch.rand(18)\n",
    "                y_rand = objective(X_random)\n",
    "                if y_rand is not None:\n",
    "                    break\n",
    "            X = torch.cat([X, X_random.unsqueeze(0)])\n",
    "            y = torch.cat([y, y_rand])\n",
    "\n",
    "    if plot:\n",
    "        utils.plot_acquisition(acquisition, X, y, candidate)\n",
    "        \n",
    "    return X, y, gp"
   ]
  },
  {
   "cell_type": "code",
   "execution_count": 8,
   "metadata": {},
   "outputs": [],
   "source": [
    "from botorch.utils.transforms import normalize, unnormalize\n",
    "\n",
    "def normalize_x(params, space):\n",
    "    bounds = torch.tensor([var['domain'] for var in space]).to(params).t()\n",
    "    params = normalize(params, bounds)\n",
    "    return params\n",
    "\n",
    "def unnormalize_x(params, space):\n",
    "    bounds = torch.tensor([var['domain'] for var in space]).to(params).t()\n",
    "    params = unnormalize(params, bounds)\n",
    "    return params\n",
    "\n",
    "def wrap_X(X, space):\n",
    "    \"\"\"\n",
    "    Wrap tensor to a list of dictionaries\n",
    "    \n",
    "    Parameters:\n",
    "    X : torch.tensor, shape=(n_samples, dim)\n",
    "        Tensor of parameters values\n",
    "        \n",
    "    space : dict\n",
    "        Search space description\n",
    "        \n",
    "    Returns\n",
    "    -------\n",
    "    wrapped_X : lsit[dict{param_name: value}]\n",
    "        List of dictionary of parameters\n",
    "    \"\"\"\n",
    "    def _wrap_row(row):\n",
    "        wrapped_row = {}\n",
    "        for i, x in enumerate(row):\n",
    "            wrapped_row[space[i]['name']] = x.item()\n",
    "        \n",
    "            if space[i]['type'] == 'discrete':\n",
    "                wrapped_row[space[i]['name']] = int(np.round(x.item()))\n",
    "        return wrapped_row\n",
    "    \n",
    "    wrapped_X = []\n",
    "    for i in range(X.shape[0]):\n",
    "        wrapped_X.append(_wrap_row(X[i]))\n",
    "        \n",
    "    return wrapped_X\n",
    "\n",
    "\n",
    "def unwrap_X(parameters, space):\n",
    "    \"\"\"\n",
    "    Unwrap list of dictionaries to torch.tensor\n",
    "    \n",
    "    Parameters\n",
    "    ----------\n",
    "    parameters : list(dict)\n",
    "        List of parameters\n",
    "        \n",
    "    space : dict\n",
    "        Input space definition\n",
    "        \n",
    "    Returns\n",
    "    -------\n",
    "    unwrapped_X : torch.tensor\n",
    "        Tensor of parameter values\n",
    "    \"\"\"\n",
    "    X = torch.zeros(len(parameters), len(space),\n",
    "                    dtype=torch.float64)\n",
    "    for i, p in enumerate(parameters):\n",
    "        x = [p[var['name']] for var in space]\n",
    "        X[i] = torch.tensor(x, dtype=torch.float64)\n",
    "        \n",
    "    return X\n",
    "\n",
    "\n",
    "\n",
    "\n",
    "def superpro(parameters,space):\n",
    "\n",
    "\n",
    "    #Objective function\n",
    "\n",
    "    score = SuperPro2(parameters,space)\n",
    "\n",
    "    print(score) \n",
    "\n",
    "    return score"
   ]
  },
  {
   "cell_type": "code",
   "execution_count": null,
   "metadata": {},
   "outputs": [
    {
     "name": "stdout",
     "output_type": "stream",
     "text": [
      "tensor([[379465.1023]], dtype=torch.float64)\n",
      "init_X[i] tensor([0.2379, 0.1144, 0.6520, 0.9914, 0.7513, 0.6917, 0.5289],\n",
      "       dtype=torch.float64)\n",
      "1\n",
      "tensor([[432270.1790]], dtype=torch.float64)\n",
      "init_X[i] tensor([0.9187, 0.8774, 0.0961, 0.4043, 0.0731, 0.2392, 0.3217],\n",
      "       dtype=torch.float64)\n",
      "2\n",
      "tensor([[454168.2912]], dtype=torch.float64)\n",
      "init_X[i] tensor([0.7248, 0.4661, 0.8469, 0.6116, 0.2823, 0.4599, 0.8317],\n",
      "       dtype=torch.float64)\n",
      "3\n",
      "tensor([[406398.0540]], dtype=torch.float64)\n",
      "init_X[i] tensor([0.4310, 0.5410, 0.4014, 0.0239, 0.6042, 0.9749, 0.0071],\n",
      "       dtype=torch.float64)\n",
      "4\n",
      "tensor([[371437.7930]], dtype=torch.float64)\n",
      "init_X[i] tensor([0.3707, 0.2747, 0.1621, 0.2287, 0.6752, 0.5007, 0.9501],\n",
      "       dtype=torch.float64)\n",
      "5\n",
      "tensor([[430284.1355]], dtype=torch.float64)\n",
      "init_X[i] tensor([0.5361, 0.7325, 0.5936, 0.6260, 0.4929, 0.0469, 0.1487],\n",
      "       dtype=torch.float64)\n",
      "6\n"
     ]
    }
   ],
   "source": [
    "\n",
    "from botorch.utils.sampling import draw_sobol_samples\n",
    "# Define the region\n",
    "\n",
    "space = [\n",
    "    {'name': 'flask_time', 'type': 'continuous', 'domain': (21600, 108000)},\n",
    "    {'name': 'seed_time', 'type': 'continuous', 'domain': (43200, 108000)},\n",
    "    #{'name': 'fed_batch_seed', 'type': 'continuous', 'domain': (0.001636, 0.004908)},\n",
    "    #{'name': 'batch_seed', 'type': 'continuous', 'domain': (0.010225325, 0.030675975)},\n",
    "    #{'name': 'conversion_seed', 'type': 'continuous', 'domain': (0.9, 0.98)},\n",
    "    {'name': 'main_time', 'type': 'continuous', 'domain': (64800, 144000)},\n",
    "    {'name': 'fed_batch', 'type': 'continuous', 'domain': (0.0190875, 0.0572625)},\n",
    "    #{'name': 'batch_med', 'type': 'continuous', 'domain': (0.102253255, 0.306759765)},\n",
    "    #{'name': 'conversion_main', 'type': 'continuous', 'domain': (0.9, 0.98)},\n",
    "    #{'name': 'solid_conc', 'type': 'continuous', 'domain': (50, 300)},\n",
    "    {'name': 'res_vol', 'type': 'continuous', 'domain': (0.28903585,  0.86710755)},\n",
    "    #{'name': 'equi1', 'type': 'continuous', 'domain': (0.01, 0.05)},\n",
    "    {'name': 'dia1', 'type': 'discrete', 'domain': (10, 50)},\n",
    "    {'name': 'flush1', 'type': 'continuous', 'domain': (0.0015,  0.0045)},\n",
    "    #{'name': 'equi2', 'type': 'continuous', 'domain': (0.01, 0.05)},\n",
    "    #{'name': 'dia2', 'type': 'discrete', 'domain': (10, 50)},\n",
    "    #{'name': 'flush2', 'type': 'continuous', 'domain': (0.00067,  0.002)},\n",
    "    #{'name': 'failure', 'type': 'continuous', 'domain': (0,  0.1)},\n",
    "]\n",
    "\n",
    "\n",
    "bounds_01 = torch.zeros(2, len(space), dtype=torch.float64)\n",
    "bounds_01[1] = 1\n",
    "\n",
    "init_X = draw_sobol_samples(bounds_01, 6, 1).squeeze()\n",
    "\n",
    "init_y = []\n",
    "valid_init_X = []\n",
    "\n",
    "while len(init_y) < 5:\n",
    "    for i in range(len(init_X)):\n",
    "        result = superpro(init_X[i], space)\n",
    "        if result is not None:\n",
    "            init_y.append(result)\n",
    "            valid_init_X.append(init_X[i])\n",
    "    \n",
    "    # If len(init_y) is still less than 5, generate additional Sobol samples\n",
    "    if len(init_y) < 5:\n",
    "        additional_samples = draw_sobol_samples(bounds_01, 5 - len(init_y), 1).squeeze()\n",
    "        init_X = torch.cat([init_X, additional_samples])\n"
   ]
  },
  {
   "cell_type": "code",
   "execution_count": 10,
   "metadata": {},
   "outputs": [],
   "source": [
    "init_y2= torch.tensor(init_y)\n",
    "init_y2= init_y2.reshape(-1,1)\n",
    "init_X2 = torch.stack(valid_init_X)\n"
   ]
  },
  {
   "cell_type": "code",
   "execution_count": 11,
   "metadata": {},
   "outputs": [],
   "source": [
    "\n",
    "\n",
    "init_X2 = torch.cat([normalize_x(X, space), init_X2])\n",
    "\n",
    "init_y2 = torch.cat([y, init_y2])"
   ]
  },
  {
   "cell_type": "code",
   "execution_count": 12,
   "metadata": {},
   "outputs": [],
   "source": [
    "\n",
    "def get_best_params(params, scores, space):\n",
    "    bounds = torch.tensor([var['domain'] for var in space]).to(params).t()\n",
    "    params = unnormalize(params, bounds)\n",
    "    \n",
    "    best_idx = np.argmin(scores.cpu().numpy())\n",
    "    \n",
    "    return wrap_X(params[[best_idx]], space)[0]"
   ]
  },
  {
   "cell_type": "code",
   "execution_count": null,
   "metadata": {},
   "outputs": [
    {
     "name": "stdout",
     "output_type": "stream",
     "text": [
      "Seed: 0 out of 100\n"
     ]
    },
    {
     "name": "stderr",
     "output_type": "stream",
     "text": [
      "  0%|          | 0/116 [00:00<?, ?it/s]"
     ]
    },
    {
     "name": "stderr",
     "output_type": "stream",
     "text": [
      "  1%|          | 1/116 [00:13<26:02, 13.58s/it]"
     ]
    },
    {
     "name": "stdout",
     "output_type": "stream",
     "text": [
      "tensor([[293497.9375]], dtype=torch.float64)\n",
      "y_new= tensor([[293497.9375]], dtype=torch.float64)\n"
     ]
    },
    {
     "name": "stderr",
     "output_type": "stream",
     "text": [
      "  2%|▏         | 2/116 [00:26<25:34, 13.46s/it]"
     ]
    },
    {
     "name": "stdout",
     "output_type": "stream",
     "text": [
      "tensor([[288146.9328]], dtype=torch.float64)\n",
      "y_new= tensor([[288146.9328]], dtype=torch.float64)\n"
     ]
    },
    {
     "name": "stderr",
     "output_type": "stream",
     "text": [
      "  3%|▎         | 3/116 [00:41<26:25, 14.03s/it]"
     ]
    },
    {
     "name": "stdout",
     "output_type": "stream",
     "text": [
      "tensor([[298552.5323]], dtype=torch.float64)\n",
      "y_new= tensor([[298552.5323]], dtype=torch.float64)\n"
     ]
    },
    {
     "name": "stderr",
     "output_type": "stream",
     "text": [
      "  3%|▎         | 4/116 [00:58<28:23, 15.21s/it]"
     ]
    },
    {
     "name": "stdout",
     "output_type": "stream",
     "text": [
      "tensor([[290777.8578]], dtype=torch.float64)\n",
      "y_new= tensor([[290777.8578]], dtype=torch.float64)\n"
     ]
    },
    {
     "name": "stderr",
     "output_type": "stream",
     "text": [
      "  4%|▍         | 5/116 [01:12<27:08, 14.67s/it]"
     ]
    },
    {
     "name": "stdout",
     "output_type": "stream",
     "text": [
      "tensor([[288009.8585]], dtype=torch.float64)\n",
      "y_new= tensor([[288009.8585]], dtype=torch.float64)\n"
     ]
    },
    {
     "name": "stderr",
     "output_type": "stream",
     "text": [
      "  5%|▌         | 6/116 [01:27<27:24, 14.95s/it]"
     ]
    },
    {
     "name": "stdout",
     "output_type": "stream",
     "text": [
      "tensor([[297382.6335]], dtype=torch.float64)\n",
      "y_new= tensor([[297382.6335]], dtype=torch.float64)\n"
     ]
    },
    {
     "name": "stderr",
     "output_type": "stream",
     "text": [
      "  6%|▌         | 7/116 [01:42<26:46, 14.74s/it]"
     ]
    },
    {
     "name": "stdout",
     "output_type": "stream",
     "text": [
      "tensor([[293068.6932]], dtype=torch.float64)\n",
      "y_new= tensor([[293068.6932]], dtype=torch.float64)\n"
     ]
    },
    {
     "name": "stderr",
     "output_type": "stream",
     "text": [
      "  7%|▋         | 8/116 [01:55<25:56, 14.41s/it]"
     ]
    },
    {
     "name": "stdout",
     "output_type": "stream",
     "text": [
      "tensor([[285953.1273]], dtype=torch.float64)\n",
      "y_new= tensor([[285953.1273]], dtype=torch.float64)\n"
     ]
    },
    {
     "name": "stderr",
     "output_type": "stream",
     "text": [
      "  8%|▊         | 9/116 [02:09<25:11, 14.13s/it]"
     ]
    },
    {
     "name": "stdout",
     "output_type": "stream",
     "text": [
      "tensor([[305773.2030]], dtype=torch.float64)\n",
      "y_new= tensor([[305773.2030]], dtype=torch.float64)\n"
     ]
    },
    {
     "name": "stderr",
     "output_type": "stream",
     "text": [
      "  9%|▊         | 10/116 [02:25<26:03, 14.75s/it]"
     ]
    },
    {
     "name": "stdout",
     "output_type": "stream",
     "text": [
      "tensor([[297309.3196]], dtype=torch.float64)\n",
      "y_new= tensor([[297309.3196]], dtype=torch.float64)\n"
     ]
    },
    {
     "name": "stderr",
     "output_type": "stream",
     "text": [
      "  9%|▉         | 11/116 [02:39<25:10, 14.39s/it]"
     ]
    },
    {
     "name": "stdout",
     "output_type": "stream",
     "text": [
      "tensor([[288589.2764]], dtype=torch.float64)\n",
      "y_new= tensor([[288589.2764]], dtype=torch.float64)\n"
     ]
    },
    {
     "name": "stderr",
     "output_type": "stream",
     "text": [
      " 10%|█         | 12/116 [02:52<24:35, 14.19s/it]"
     ]
    },
    {
     "name": "stdout",
     "output_type": "stream",
     "text": [
      "tensor([[360040.0262]], dtype=torch.float64)\n",
      "y_new= tensor([[360040.0262]], dtype=torch.float64)\n"
     ]
    },
    {
     "name": "stderr",
     "output_type": "stream",
     "text": [
      " 11%|█         | 13/116 [03:06<24:07, 14.05s/it]"
     ]
    },
    {
     "name": "stdout",
     "output_type": "stream",
     "text": [
      "tensor([[292248.5035]], dtype=torch.float64)\n",
      "y_new= tensor([[292248.5035]], dtype=torch.float64)\n"
     ]
    },
    {
     "name": "stderr",
     "output_type": "stream",
     "text": [
      " 12%|█▏        | 14/116 [03:23<25:18, 14.88s/it]"
     ]
    },
    {
     "name": "stdout",
     "output_type": "stream",
     "text": [
      "tensor([[318097.6375]], dtype=torch.float64)\n",
      "y_new= tensor([[318097.6375]], dtype=torch.float64)\n"
     ]
    },
    {
     "name": "stderr",
     "output_type": "stream",
     "text": [
      " 13%|█▎        | 15/116 [03:39<25:25, 15.11s/it]"
     ]
    },
    {
     "name": "stdout",
     "output_type": "stream",
     "text": [
      "tensor([[312425.2548]], dtype=torch.float64)\n",
      "y_new= tensor([[312425.2548]], dtype=torch.float64)\n"
     ]
    },
    {
     "name": "stderr",
     "output_type": "stream",
     "text": [
      " 14%|█▍        | 16/116 [03:52<24:34, 14.75s/it]"
     ]
    },
    {
     "name": "stdout",
     "output_type": "stream",
     "text": [
      "tensor([[286664.2770]], dtype=torch.float64)\n",
      "y_new= tensor([[286664.2770]], dtype=torch.float64)\n"
     ]
    },
    {
     "name": "stderr",
     "output_type": "stream",
     "text": [
      " 15%|█▍        | 17/116 [04:11<26:02, 15.78s/it]"
     ]
    },
    {
     "name": "stdout",
     "output_type": "stream",
     "text": [
      "tensor([[285953.1273]], dtype=torch.float64)\n",
      "y_new= tensor([[285953.1273]], dtype=torch.float64)\n"
     ]
    },
    {
     "name": "stderr",
     "output_type": "stream",
     "text": [
      " 16%|█▌        | 18/116 [04:25<25:16, 15.47s/it]"
     ]
    },
    {
     "name": "stdout",
     "output_type": "stream",
     "text": [
      "tensor([[288175.5589]], dtype=torch.float64)\n",
      "y_new= tensor([[288175.5589]], dtype=torch.float64)\n"
     ]
    },
    {
     "name": "stderr",
     "output_type": "stream",
     "text": [
      " 16%|█▋        | 19/116 [04:42<25:42, 15.90s/it]"
     ]
    },
    {
     "name": "stdout",
     "output_type": "stream",
     "text": [
      "tensor([[310050.5001]], dtype=torch.float64)\n",
      "y_new= tensor([[310050.5001]], dtype=torch.float64)\n"
     ]
    },
    {
     "name": "stderr",
     "output_type": "stream",
     "text": [
      " 17%|█▋        | 20/116 [04:56<24:27, 15.28s/it]"
     ]
    },
    {
     "name": "stdout",
     "output_type": "stream",
     "text": [
      "tensor([[285953.1273]], dtype=torch.float64)\n",
      "y_new= tensor([[285953.1273]], dtype=torch.float64)\n"
     ]
    },
    {
     "name": "stderr",
     "output_type": "stream",
     "text": [
      " 18%|█▊        | 21/116 [05:10<23:35, 14.90s/it]"
     ]
    },
    {
     "name": "stdout",
     "output_type": "stream",
     "text": [
      "tensor([[286303.9083]], dtype=torch.float64)\n",
      "y_new= tensor([[286303.9083]], dtype=torch.float64)\n"
     ]
    },
    {
     "name": "stderr",
     "output_type": "stream",
     "text": [
      " 19%|█▉        | 22/116 [05:24<23:02, 14.71s/it]"
     ]
    },
    {
     "name": "stdout",
     "output_type": "stream",
     "text": [
      "tensor([[285953.1273]], dtype=torch.float64)\n",
      "y_new= tensor([[285953.1273]], dtype=torch.float64)\n"
     ]
    },
    {
     "name": "stderr",
     "output_type": "stream",
     "text": [
      " 20%|█▉        | 23/116 [05:38<22:21, 14.43s/it]"
     ]
    },
    {
     "name": "stdout",
     "output_type": "stream",
     "text": [
      "tensor([[285953.1273]], dtype=torch.float64)\n",
      "y_new= tensor([[285953.1273]], dtype=torch.float64)\n"
     ]
    },
    {
     "name": "stderr",
     "output_type": "stream",
     "text": [
      " 21%|██        | 24/116 [05:52<21:47, 14.21s/it]"
     ]
    },
    {
     "name": "stdout",
     "output_type": "stream",
     "text": [
      "tensor([[289957.8189]], dtype=torch.float64)\n",
      "y_new= tensor([[289957.8189]], dtype=torch.float64)\n"
     ]
    },
    {
     "name": "stderr",
     "output_type": "stream",
     "text": [
      " 22%|██▏       | 25/116 [06:05<21:15, 14.01s/it]"
     ]
    },
    {
     "name": "stdout",
     "output_type": "stream",
     "text": [
      "tensor([[285953.1273]], dtype=torch.float64)\n",
      "y_new= tensor([[285953.1273]], dtype=torch.float64)\n"
     ]
    },
    {
     "name": "stderr",
     "output_type": "stream",
     "text": [
      " 22%|██▏       | 26/116 [06:19<20:57, 13.97s/it]"
     ]
    },
    {
     "name": "stdout",
     "output_type": "stream",
     "text": [
      "tensor([[285953.1273]], dtype=torch.float64)\n",
      "y_new= tensor([[285953.1273]], dtype=torch.float64)\n"
     ]
    },
    {
     "name": "stderr",
     "output_type": "stream",
     "text": [
      " 23%|██▎       | 27/116 [06:33<20:33, 13.86s/it]"
     ]
    },
    {
     "name": "stdout",
     "output_type": "stream",
     "text": [
      "tensor([[285953.1273]], dtype=torch.float64)\n",
      "y_new= tensor([[285953.1273]], dtype=torch.float64)\n"
     ]
    },
    {
     "name": "stderr",
     "output_type": "stream",
     "text": [
      " 23%|██▎       | 27/116 [06:47<22:22, 15.09s/it]"
     ]
    },
    {
     "name": "stdout",
     "output_type": "stream",
     "text": [
      "tensor([[287921.5522]], dtype=torch.float64)\n",
      "y_new= tensor([[287921.5522]], dtype=torch.float64)\n",
      "Termination criterion met: No improvement for 20 consecutive iterations.\n",
      "296951.3697\n",
      "296951.3697\n",
      "296951.3697\n",
      "296951.3697\n",
      "296951.3697\n",
      "296951.3697\n",
      "296951.3697\n",
      "293497.937494635\n",
      "288146.932785595\n",
      "288146.932785595\n",
      "288146.932785595\n",
      "288009.8584648133\n",
      "288009.8584648133\n",
      "288009.8584648133\n",
      "285953.1272895147\n",
      "285953.1272895147\n",
      "285953.1272895147\n",
      "285953.1272895147\n",
      "285953.1272895147\n",
      "285953.1272895147\n",
      "285953.1272895147\n",
      "285953.1272895147\n",
      "285953.1272895147\n",
      "285953.1272895147\n",
      "285953.1272895147\n",
      "285953.1272895147\n",
      "285953.1272895147\n",
      "285953.1272895147\n",
      "285953.1272895147\n",
      "285953.1272895147\n",
      "285953.1272895147\n",
      "285953.1272895147\n",
      "285953.1272895147\n",
      "285953.1272895147\n",
      "285953.1272895147\n",
      "Execution time: 407.3410704135895 seconds\n"
     ]
    },
    {
     "name": "stderr",
     "output_type": "stream",
     "text": [
      "\n"
     ]
    }
   ],
   "source": [
    "from botorch.acquisition import (ExpectedImprovement, PosteriorMean,\n",
    "                                 ProbabilityOfImprovement,\n",
    "                                 UpperConfidenceBound, qKnowledgeGradient)\n",
    "from botorch.acquisition.max_value_entropy_search import qMaxValueEntropy\n",
    "from botorch.sampling import SobolQMCNormalSampler\n",
    "from botorch.acquisition.max_value_entropy_search import qMaxValueEntropy\n",
    "import cProfile\n",
    "import pstats\n",
    "\n",
    "import time\n",
    "\n",
    "start_time = time.time()\n",
    "\n",
    "cum_best_df = pd.DataFrame()\n",
    "best_params_df = pd.DataFrame()\n",
    "\n",
    "for i in range(0, 10,10) :\n",
    "    print('Seed:', i, 'out of 100')\n",
    "    torch.manual_seed(i)\n",
    "\n",
    "\n",
    "\n",
    "    params = init_X2\n",
    "\n",
    "    scores = init_y2\n",
    "\n",
    "    state_dict = None\n",
    "\n",
    "    budget = 116\n",
    "\n",
    "    objective = lambda x: superpro(x, space)\n",
    "\n",
    "    # Initialize the counter for consecutive iterations without improvement\n",
    "    no_improvement_count = 0\n",
    "    consecutive_iterations_threshold = 20  # Threshold for consecutive iterations without improvement\n",
    "\n",
    "    best_score = float('+inf')  # Initialize the best score to a very low number\n",
    "\n",
    "    with tqdm.tqdm(total=budget) as bar:\n",
    "        while len(scores) < budget:\n",
    "            n_samples = len(scores)\n",
    "        \n",
    "            # Assuming the rest of your optimization code goes here and updates `scores`\n",
    "            GP = SingleTaskGP\n",
    "        \n",
    "\n",
    "\n",
    "        \n",
    "            acquisition = lambda gp: UpperConfidenceBound(gp, beta=15, maximize=False)\n",
    "        \n",
    "\n",
    "            params, scores, gp = bo_step(params, scores, objective, bounds_01,\n",
    "                                     GP=GP, acquisition=acquisition\n",
    "                                     )\n",
    "\n",
    "            current_best_score = scores.min().item()  # Get the current best score\n",
    "        \n",
    "            # Check if there is an improvement\n",
    "            if current_best_score < best_score:\n",
    "                best_score = current_best_score  # Update the best score\n",
    "                no_improvement_count = 0  # Reset the counter since there was an improvement\n",
    "            else:\n",
    "                no_improvement_count += 1  # Increment the counter\n",
    "        \n",
    "            # Terminate if the number of consecutive iterations without improvement\n",
    "            # reaches the threshold\n",
    "            if no_improvement_count >= consecutive_iterations_threshold:\n",
    "                print(\"Termination criterion met: No improvement for 20 consecutive iterations.\")\n",
    "                break  # Terminate the loop\n",
    "        \n",
    "            bar.update(len(scores) - n_samples)\n",
    "\n",
    "\n",
    "        import sys\n",
    "\n",
    "        cum_best = np.minimum.accumulate(scores.cpu().numpy())\n",
    "\n",
    "        # Create a temporary DataFrame from `cum_best` and reindex `cum_best_df` to ensure it's long enough\n",
    "        temp_df = pd.DataFrame({f'{i}': cum_best.squeeze()})\n",
    "        cum_best_df = cum_best_df.reindex(index=range(max(len(cum_best_df), len(temp_df)))).assign(**temp_df)\n",
    "        best_param = get_best_params(params, scores, space)\n",
    "        best_param_values = list(best_param.values())\n",
    "        best_params_df[f'{i}'] = pd.Series(best_param_values)\n",
    "\n",
    "        np.set_printoptions(threshold=sys.maxsize)\n",
    "        a= cum_best.squeeze()\n",
    "        for j in range(len(a)):\n",
    "            print(a[j])\n",
    "\n",
    "\n",
    "end_time = time.time()\n",
    "execution_time = end_time - start_time\n",
    "print(f\"Execution time: {execution_time} seconds\")"
   ]
  },
  {
   "cell_type": "code",
   "execution_count": null,
   "metadata": {},
   "outputs": [
    {
     "name": "stdout",
     "output_type": "stream",
     "text": [
      "flask_time: 21600.0\n",
      "\n",
      "seed_time: 43200.0\n",
      "\n",
      "main_time: 64800.0\n",
      "\n",
      "fed_batch: 0.05726249888539314\n",
      "\n",
      "res_vol: 0.2890358567237854\n",
      "\n",
      "dia1: 10\n",
      "\n",
      "flush1: 0.001500000013038516\n",
      "\n",
      "Optimum 285953.1272895147\n"
     ]
    },
    {
     "data": {
      "image/png": "[encoded data removed]",
      "text/plain": [
       "<Figure size 900x450 with 2 Axes>"
      ]
     },
     "metadata": {},
     "output_type": "display_data"
    }
   ],
   "source": [
    "#=============================================================RESULTS==============================================================\n",
    "for key, value in best_param.items():\n",
    "        print(f'{key}: {value}\\n')\n",
    "\n",
    "print('Optimum', scores.min().item())\n",
    "\n",
    "utils.plot_convergence(params, scores, maximize=False)"
   ]
  },
  {
   "cell_type": "code",
   "execution_count": null,
   "metadata": {},
   "outputs": [
    {
     "name": "stdout",
     "output_type": "stream",
     "text": [
      "296951.3697\n",
      "296951.3697\n",
      "296951.3697\n",
      "296951.3697\n",
      "296951.3697\n",
      "296951.3697\n",
      "296951.3697\n",
      "293497.937494635\n",
      "288146.932785595\n",
      "288146.932785595\n",
      "288146.932785595\n",
      "288009.8584648133\n",
      "288009.8584648133\n",
      "288009.8584648133\n",
      "285953.1272895147\n",
      "285953.1272895147\n",
      "285953.1272895147\n",
      "285953.1272895147\n",
      "285953.1272895147\n",
      "285953.1272895147\n",
      "285953.1272895147\n",
      "285953.1272895147\n",
      "285953.1272895147\n",
      "285953.1272895147\n",
      "285953.1272895147\n",
      "285953.1272895147\n",
      "285953.1272895147\n",
      "285953.1272895147\n",
      "285953.1272895147\n",
      "285953.1272895147\n",
      "285953.1272895147\n",
      "285953.1272895147\n",
      "285953.1272895147\n",
      "285953.1272895147\n",
      "285953.1272895147\n"
     ]
    }
   ],
   "source": [
    "\n",
    "cum_best = np.minimum.accumulate(scores.cpu().numpy())\n",
    "\n"
   ]
  }
 ],
 "metadata": {
  "kernelspec": {
   "display_name": "Python 3 (ipykernel)",
   "language": "python",
   "name": "python3"
  },
  "language_info": {
   "codemirror_mode": {
    "name": "ipython",
    "version": 3
   },
   "file_extension": ".py",
   "mimetype": "text/x-python",
   "name": "python",
   "nbconvert_exporter": "python",
   "pygments_lexer": "ipython3",
   "version": "3.11.5"
  },
  "vscode": {
   "interpreter": {
    "hash": "2788fb9d5675b44d2f2df23377ba4fb00c0c6d159a9eeaed96789bf0470f2ecc"
   }
  }
 },
 "nbformat": 4,
 "nbformat_minor": 2
}
