{
 "cells": [
  {
   "cell_type": "code",
   "execution_count": 1,
   "metadata": {},
   "outputs": [],
   "source": [
    "import pandas as pd\n",
    "\n",
    "def is_within_bounds(row, bounds):\n",
    "    # Check each value against the corresponding bound\n",
    "    for val, (low, high) in zip(row, bounds):\n",
    "        if not (low <= val <= high):\n",
    "            return False\n",
    "    return True\n",
    "\n",
    "def save_top_inputs(inputs_path, outputs_path, column_name='3', top_n=10, bounds=[]):\n",
    "    # Load the data from Excel files\n",
    "    inputs_df = pd.read_csv(inputs_path)\n",
    "    outputs_df = pd.read_csv(outputs_path)\n",
    "\n",
    "    # Ensure the column_name exists in the outputs\n",
    "    if column_name not in outputs_df.columns:\n",
    "        raise ValueError(f\"The column {column_name} does not exist in the outputs file.\")\n",
    "\n",
    "    # Apply bounds to inputs and filter data\n",
    "    valid_inputs_df = inputs_df[inputs_df.apply(lambda row: is_within_bounds(row, bounds), axis=1)]\n",
    "\n",
    "    # Check if there are enough valid entries\n",
    "    if len(valid_inputs_df) < top_n:\n",
    "        print(f\"Not enough valid entries found. Only {len(valid_inputs_df)} valid entries available.\")\n",
    "        return \"Not enough valid data.\"\n",
    "\n",
    "    # Find indices of valid inputs\n",
    "    valid_indices = valid_inputs_df.index\n",
    "\n",
    "    # Select corresponding outputs using valid indices\n",
    "    valid_outputs_df = outputs_df.loc[valid_indices]\n",
    "\n",
    "    # Find the top N rows with the smallest values in the specified CAPEX column from the valid outputs\n",
    "    top_outputs = valid_outputs_df.nsmallest(top_n, column_name)\n",
    "\n",
    "    # Find associated inputs using the index from top outputs\n",
    "    associated_inputs = inputs_df.loc[top_outputs.index]\n",
    "\n",
    "    # Save the data to CSV files\n",
    "    associated_inputs.to_csv('top_inputs.csv', index=False)\n",
    "    top_outputs[[column_name]].to_csv('top_outputs.csv', index=False)\n",
    "\n",
    "    return \"Files saved successfully, found {} valid outputs.\".format(len(top_outputs))\n",
    "\n",
    "\n",
    "\n",
    "\n"
   ]
  },
  {
   "cell_type": "code",
   "execution_count": 2,
   "metadata": {},
   "outputs": [],
   "source": [
    "## BOUNDS\n",
    "\n",
    "bounds = [[-float('inf'), float('inf')],        # 1. flask fermentation time\n",
    "        [43200, 108000],                        # 2. seed fermentation time  !!!\n",
    "        [-float('inf'), float('inf')],          # 3. fed seed volume\n",
    "        [0.010225325, 0.030675975],             # 4. working seed volume   !!!\n",
    "        [-float('inf'), float('inf')],           # 5. conversion seed\n",
    "        [64800, 144000],                        # 6. main fermentation time  !!!\n",
    "        [0.0190875, 0.0572625],                 # 7. fed main volume    !!!\n",
    "        [0.102253255, 0.306759765],             # 8. working main       !!!\n",
    "        [0.9, 0.98],                            # 9. conversion main    !!!\n",
    "        [-float('inf'), float('inf')],          # 10. concentration solids\n",
    "        [0.28903585,  0.86710755],              # 11. resuspension/lysis/neutralization volume  !!!\n",
    "        [-float('inf'), float('inf')],          # 12. UF/DF 1 equilibrium \n",
    "        [10, 50],                               # 13. UF/DF 1 volumes  !!!\n",
    "        [-float('inf'), float('inf')],           # 14. UF/DF 1 flush\n",
    "        [-float('inf'), float('inf')],           # 15. UF/DF 2 equilibrium \n",
    "        [10, 50],                               # 16. UF/DF 2 volumes   !!!\n",
    "        [0.00067,  0.002],                      # 17. UF/DF 2 flush   !!!\n",
    "        [-float('inf'), float('inf')]           # 18. failure rate\n",
    "        ]\n",
    "\n",
    "\n"
   ]
  },
  {
   "cell_type": "code",
   "execution_count": 3,
   "metadata": {},
   "outputs": [
    {
     "name": "stdout",
     "output_type": "stream",
     "text": [
      "Files saved successfully, found 10 valid outputs.\n"
     ]
    }
   ],
   "source": [
    "# Paths to your files (update these paths accordingly)\n",
    "inputs_file_path = 'inputs.csv'\n",
    "outputs_file_path = 'outputs.csv'\n",
    "\n",
    "# Usage of the function\n",
    "result = save_top_inputs(inputs_file_path, outputs_file_path, bounds=bounds)\n",
    "print(result)\n"
   ]
  }
 ],
 "metadata": {
  "kernelspec": {
   "display_name": "Python 3",
   "language": "python",
   "name": "python3"
  },
  "language_info": {
   "codemirror_mode": {
    "name": "ipython",
    "version": 3
   },
   "file_extension": ".py",
   "mimetype": "text/x-python",
   "name": "python",
   "nbconvert_exporter": "python",
   "pygments_lexer": "ipython3",
   "version": "3.11.5"
  }
 },
 "nbformat": 4,
 "nbformat_minor": 2
}
