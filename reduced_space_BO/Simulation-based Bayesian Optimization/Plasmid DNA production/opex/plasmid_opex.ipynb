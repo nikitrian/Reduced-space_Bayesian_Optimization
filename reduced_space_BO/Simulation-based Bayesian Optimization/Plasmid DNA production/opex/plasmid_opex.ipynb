{
 "cells": [
  {
   "cell_type": "code",
   "execution_count": 1,
   "metadata": {},
   "outputs": [],
   "source": [
    "import pandas as pd\n",
    "import numpy as np\n",
    "import matplotlib.pyplot as plt\n",
    "import torch\n",
    "import utils\n",
    "import tqdm\n",
    "\n",
    "\n",
    "device = 'cpu'\n",
    "dtype = torch.float64"
   ]
  },
  {
   "cell_type": "code",
   "execution_count": null,
   "metadata": {},
   "outputs": [],
   "source": [
    "inputs = pd.read_csv('top_inputs.csv')\n",
    "outputs = pd.read_csv('top_outputs.csv')\n"
   ]
  },
  {
   "cell_type": "code",
   "execution_count": null,
   "metadata": {},
   "outputs": [],
   "source": [
    "X = torch.tensor(inputs.values)\n",
    "y = torch.tensor(outputs.values)\n"
   ]
  },
  {
   "cell_type": "code",
   "execution_count": null,
   "metadata": {},
   "outputs": [],
   "source": [
    "import win32com.client\n",
    "import os\n",
    "\n",
    "def SuperPro2(p, space):\n",
    "\n",
    "    p = unnormalize_x(p, space)\n",
    "    p = p.reshape(-1,1).numpy()\n",
    "\n",
    "    excelObject = win32com.client.Dispatch(\"Excel.Application\")  #instantiate excel app\n",
    "    excelObject.Visible = True\n",
    "    temp1= os.getcwd()+'\\\\pDNA.xlsm'\n",
    "\n",
    "    \n",
    "    wb = excelObject.Workbooks.Open(temp1)\n",
    "\n",
    "    excelObject.Application.Run('BeforeSuperExcelMatlab')\n",
    "\n",
    "    temp3 =np.shape(p)[1]\n",
    "    F =np.zeros((8,1,temp3))\n",
    "    for i in range(temp3):\n",
    "        \n",
    "\n",
    "        #temp4 = excelObject.Application.Run('SuperExcelMatlab', p[0,i], p[1,i], p[2,i], p[3,i], p[4,i], p[5,i], p[6,i], p[7,i], \n",
    "                                            #p[8,i], p[9,i], p[10,i], p[11,i], np.round(p[12,i]), p[13,i], p[14,i], np.round(p[15,i]), p[16,i], p[17,i])\n",
    "                                            \n",
    "        temp4 = excelObject.Application.Run('SuperExcelMatlab', 43200, p[0,i], 0.0033, p[1,i], 0.95, p[2,i], p[3,i], p[4,i], \n",
    "                                            p[5,i], 150, p[6,i], 0.03, np.round(p[7,i]), 0.003, 0.02, np.round(p[8,i]), p[9,i], 0.05)\n",
    "        \n",
    "        \n",
    "        #temp4 = excelObject.Application.Run('SuperExcelMatlab', 43200, 108000, 0.0033, 0.02045, 0.95, 144000, 0.038175, 0.204507, \n",
    "                                            #0.98, 150, 0.578072, 0.03, np.round(50), 0.003, 0.02, np.round(40), 0.001333, 0.05)\n",
    "\n",
    "        F[0,0,i] = temp4[0] # Formulation concentration (kg/m3)\n",
    "        F[1,0,i] = temp4[1] #  Productivity (kg/batch)\n",
    "        F[2,0,i] = temp4[2] # CAPEX ($)\n",
    "        F[3,0,i] = temp4[3]/temp4[4] # OPEX ($/batch)\n",
    "        F[4,0,i] = temp4[4] # Number of batches (batches/y)\n",
    "        F[5,0,i] = temp4[5] # Batch time (s)\n",
    "        F[6,0,i] = temp4[6] # Cycle time (s)\n",
    "        F[7,0,i] = temp4[3]/(temp4[4]*(temp4[1]/0.001)) # Cost per gram ($/g)\n",
    "        #F[7,0,i] = temp4[3]/temp4[4] # Opex per batch ($/batch)\n",
    "        \n",
    "\n",
    "    excelObject.Application.Run('AfterSuperExcelMatlab')\n",
    "    \n",
    "    wb.Close(False)\n",
    "    excelObject.Application.Quit()\n",
    "\n",
    "    \n",
    "    return torch.from_numpy(F[3,0,:]).unsqueeze(-1)"
   ]
  },
  {
   "cell_type": "code",
   "execution_count": 6,
   "metadata": {},
   "outputs": [],
   "source": [
    "from botorch.models import SingleTaskGP\n",
    "from gpytorch.mlls import ExactMarginalLogLikelihood\n",
    "from botorch.fit import fit_gpytorch_model\n",
    "from gpytorch.kernels import MaternKernel, RBFKernel\n",
    "from botorch.models.transforms import Standardize\n",
    "\n",
    "\n",
    "\n",
    "def initialize_model(X, y, GP=None, state_dict=None, *GP_args, **GP_kwargs):\n",
    "    \"\"\"\n",
    "    Create GP model and fit it. The function also accepts\n",
    "    state_dict which is used as an initialization for the GP model.\n",
    "    \n",
    "    Parameters\n",
    "    ----------\n",
    "    X : torch.tensor, shape=(n_samples, dim)\n",
    "        Input values\n",
    "        \n",
    "    y : torch.tensor, shape=(n_samples,)\n",
    "        Output values\n",
    "        \n",
    "    GP : botorch.models.Model\n",
    "        GP model class\n",
    "        \n",
    "    state_dict : dict\n",
    "        GP model state dict\n",
    "        \n",
    "    Returns\n",
    "    -------\n",
    "    mll : gpytorch.mlls.MarginalLoglikelihood\n",
    "        Marginal loglikelihood\n",
    "    \n",
    "    gp : \n",
    "    \"\"\"\n",
    "\n",
    "    covar_module = MaternKernel(nu=2.5)\n",
    "\n",
    "\n",
    "    if GP is None:\n",
    "        GP = SingleTaskGP\n",
    "        \n",
    "    model = GP(X, y,  outcome_transform=Standardize(1), covar_module = covar_module, *GP_args, **GP_kwargs).to(X)\n",
    "\n",
    "    mll = ExactMarginalLogLikelihood(model.likelihood, model)\n",
    "\n",
    "    # load state dict if it is passed\n",
    "    if state_dict is not None:\n",
    "        model.load_state_dict(state_dict)\n",
    "    return mll, model"
   ]
  },
  {
   "cell_type": "code",
   "execution_count": null,
   "metadata": {},
   "outputs": [],
   "source": [
    "#6. Repeat from step 1\n",
    "from botorch.optim import optimize_acqf\n",
    "def bo_step(X, y, objective, bounds, GP=None, acquisition=None, q=1, state_dict=None, plot=False):\n",
    "\n",
    "    \n",
    "    if y is not None:\n",
    "        mll, gp = initialize_model(X, y, GP=GP, state_dict=state_dict)\n",
    "        fit_gpytorch_model(mll)\n",
    "    \n",
    "    # Create acquisition function\n",
    "    acquisition = acquisition(gp)\n",
    "    inequality_constraints = [(torch.tensor([0, 1]), torch.tensor([-1, 1], dtype=torch.float64), torch.tensor(0.0, dtype=torch.float64)),\n",
    "    (torch.tensor([1, 5]), torch.tensor([-1, 1], dtype=torch.float64), torch.tensor(0, dtype=torch.float64))]\n",
    "    # Optimize acquisition function if y is not None\n",
    "    if y is not None:\n",
    "        candidate = optimize_acqf(\n",
    "            acquisition, bounds=bounds, q=q,  inequality_constraints=None, num_restarts=50, raw_samples=1024,\n",
    "        )\n",
    "       \n",
    "        # Check if objective is not None before updating y\n",
    "        y_new = objective(candidate[0].squeeze())\n",
    "        print('y_new=', y_new)\n",
    "        if y_new is not None:\n",
    "            y = torch.cat([y, y_new])\n",
    "            X = torch.cat([X, candidate[0]])\n",
    "        else: \n",
    "            # Repeat until y_random is not None\n",
    "            while True:\n",
    "                X_random = torch.rand(18)\n",
    "                y_rand = objective(X_random)\n",
    "                if y_rand is not None:\n",
    "                    break\n",
    "            X = torch.cat([X, X_random.unsqueeze(0)])\n",
    "            y = torch.cat([y, y_rand])\n",
    "\n",
    "    if plot:\n",
    "        utils.plot_acquisition(acquisition, X, y, candidate)\n",
    "        \n",
    "    return X, y, gp"
   ]
  },
  {
   "cell_type": "code",
   "execution_count": 8,
   "metadata": {},
   "outputs": [],
   "source": [
    "from botorch.utils.transforms import normalize, unnormalize\n",
    "\n",
    "def normalize_x(params, space):\n",
    "    bounds = torch.tensor([var['domain'] for var in space]).to(params).t()\n",
    "    params = normalize(params, bounds)\n",
    "    return params\n",
    "\n",
    "def unnormalize_x(params, space):\n",
    "    bounds = torch.tensor([var['domain'] for var in space]).to(params).t()\n",
    "    params = unnormalize(params, bounds)\n",
    "    return params\n",
    "\n",
    "def wrap_X(X, space):\n",
    "    \"\"\"\n",
    "    Wrap tensor to a list of dictionaries\n",
    "    \n",
    "    Parameters:\n",
    "    X : torch.tensor, shape=(n_samples, dim)\n",
    "        Tensor of parameters values\n",
    "        \n",
    "    space : dict\n",
    "        Search space description\n",
    "        \n",
    "    Returns\n",
    "    -------\n",
    "    wrapped_X : lsit[dict{param_name: value}]\n",
    "        List of dictionary of parameters\n",
    "    \"\"\"\n",
    "    def _wrap_row(row):\n",
    "        wrapped_row = {}\n",
    "        for i, x in enumerate(row):\n",
    "            wrapped_row[space[i]['name']] = x.item()\n",
    "        \n",
    "            if space[i]['type'] == 'discrete':\n",
    "                wrapped_row[space[i]['name']] = int(np.round(x.item()))\n",
    "        return wrapped_row\n",
    "    \n",
    "    wrapped_X = []\n",
    "    for i in range(X.shape[0]):\n",
    "        wrapped_X.append(_wrap_row(X[i]))\n",
    "        \n",
    "    return wrapped_X\n",
    "\n",
    "\n",
    "def unwrap_X(parameters, space):\n",
    "    \"\"\"\n",
    "    Unwrap list of dictionaries to torch.tensor\n",
    "    \n",
    "    Parameters\n",
    "    ----------\n",
    "    parameters : list(dict)\n",
    "        List of parameters\n",
    "        \n",
    "    space : dict\n",
    "        Input space definition\n",
    "        \n",
    "    Returns\n",
    "    -------\n",
    "    unwrapped_X : torch.tensor\n",
    "        Tensor of parameter values\n",
    "    \"\"\"\n",
    "    X = torch.zeros(len(parameters), len(space),\n",
    "                    dtype=torch.float64)\n",
    "    for i, p in enumerate(parameters):\n",
    "        x = [p[var['name']] for var in space]\n",
    "        X[i] = torch.tensor(x, dtype=torch.float64)\n",
    "        \n",
    "    return X\n",
    "\n",
    "\n",
    "\n",
    "\n",
    "def superpro(parameters,space):\n",
    "\n",
    "\n",
    "    #Objective function\n",
    "\n",
    "    score = SuperPro2(parameters,space)\n",
    "\n",
    "    print(score) \n",
    "\n",
    "    return score"
   ]
  },
  {
   "cell_type": "code",
   "execution_count": null,
   "metadata": {},
   "outputs": [
    {
     "name": "stdout",
     "output_type": "stream",
     "text": [
      "tensor([[253135.1286]], dtype=torch.float64)\n",
      "init_X[i] tensor([0.7143, 0.4366, 0.6404, 0.5669, 0.8588, 0.8068, 0.2343, 0.7409, 0.6875,\n",
      "        0.9793], dtype=torch.float64)\n",
      "1\n",
      "tensor([[162154.4525]], dtype=torch.float64)\n",
      "init_X[i] tensor([0.0418, 0.9373, 0.0711, 0.1140, 0.0252, 0.0742, 0.8855, 0.4680, 0.3439,\n",
      "        0.2776], dtype=torch.float64)\n",
      "2\n",
      "tensor([[194628.3178]], dtype=torch.float64)\n",
      "init_X[i] tensor([0.3962, 0.0744, 0.8732, 0.8651, 0.3239, 0.3481, 0.4180, 0.0904, 0.0994,\n",
      "        0.2048], dtype=torch.float64)\n",
      "3\n",
      "tensor([[220651.6413]], dtype=torch.float64)\n",
      "init_X[i] tensor([0.8477, 0.5752, 0.4308, 0.3182, 0.5596, 0.5212, 0.6965, 0.8643, 0.9319,\n",
      "        0.5383], dtype=torch.float64)\n",
      "4\n",
      "tensor([[201619.5809]], dtype=torch.float64)\n",
      "init_X[i] tensor([0.9414, 0.1265, 0.2300, 0.4501, 0.7064, 0.9164, 0.2984, 0.2336, 0.1888,\n",
      "        0.4655], dtype=torch.float64)\n",
      "5\n",
      "tensor([[253289.2598]], dtype=torch.float64)\n",
      "init_X[i] tensor([0.3025, 0.6263, 0.5435, 0.9969, 0.4119, 0.2146, 0.5827, 0.9442, 0.7799,\n",
      "        0.7912], dtype=torch.float64)\n",
      "6\n"
     ]
    }
   ],
   "source": [
    "\n",
    "from botorch.utils.sampling import draw_sobol_samples\n",
    "# Define the region\n",
    "\n",
    "space = [\n",
    "    #{'name': 'flask_time', 'type': 'continuous', 'domain': (21600, 108000)},\n",
    "    {'name': 'seed_time', 'type': 'continuous', 'domain': (43200, 108000)},\n",
    "    #{'name': 'fed_batch_seed', 'type': 'continuous', 'domain': (0.001636, 0.004908)},\n",
    "    {'name': 'batch_seed', 'type': 'continuous', 'domain': (0.010225325, 0.030675975)},\n",
    "    #{'name': 'conversion_seed', 'type': 'continuous', 'domain': (0.9, 0.98)},\n",
    "    {'name': 'main_time', 'type': 'continuous', 'domain': (64800, 144000)},\n",
    "    {'name': 'fed_batch', 'type': 'continuous', 'domain': (0.0190875, 0.0572625)},\n",
    "    {'name': 'batch_med', 'type': 'continuous', 'domain': (0.102253255, 0.306759765)},\n",
    "    {'name': 'conversion_main', 'type': 'continuous', 'domain': (0.9, 0.98)},\n",
    "    #{'name': 'solid_conc', 'type': 'continuous', 'domain': (50, 300)},\n",
    "    {'name': 'res_vol', 'type': 'continuous', 'domain': (0.28903585,  0.86710755)},\n",
    "    #{'name': 'equi1', 'type': 'continuous', 'domain': (0.01, 0.05)},\n",
    "    {'name': 'dia1', 'type': 'discrete', 'domain': (10, 50)},\n",
    "    #{'name': 'flush1', 'type': 'continuous', 'domain': (0.0015,  0.0045)},\n",
    "    #{'name': 'equi2', 'type': 'continuous', 'domain': (0.01, 0.05)},\n",
    "    {'name': 'dia2', 'type': 'discrete', 'domain': (10, 50)},\n",
    "    {'name': 'flush2', 'type': 'continuous', 'domain': (0.00067,  0.002)},\n",
    "    #{'name': 'failure', 'type': 'continuous', 'domain': (0,  0.1)},\n",
    "]\n",
    "\n",
    "\n",
    "bounds_01 = torch.zeros(2, len(space), dtype=torch.float64)\n",
    "bounds_01[1] = 1\n",
    "\n",
    "init_X = draw_sobol_samples(bounds_01, 6, 1).squeeze()\n",
    "\n",
    "init_y = []\n",
    "valid_init_X = []\n",
    "\n",
    "while len(init_y) < 5:\n",
    "    for i in range(len(init_X)):\n",
    "        result = superpro(init_X[i], space)\n",
    "        if result is not None:\n",
    "            init_y.append(result)\n",
    "            valid_init_X.append(init_X[i])\n",
    "    \n",
    "    # If len(init_y) is still less than 5, generate additional Sobol samples\n",
    "    if len(init_y) < 5:\n",
    "        additional_samples = draw_sobol_samples(bounds_01, 5 - len(init_y), 1).squeeze()\n",
    "        init_X = torch.cat([init_X, additional_samples])\n"
   ]
  },
  {
   "cell_type": "code",
   "execution_count": 10,
   "metadata": {},
   "outputs": [],
   "source": [
    "init_y2= torch.tensor(init_y)\n",
    "init_y2= init_y2.reshape(-1,1)\n",
    "init_X2 = torch.stack(valid_init_X)\n"
   ]
  },
  {
   "cell_type": "code",
   "execution_count": 11,
   "metadata": {},
   "outputs": [],
   "source": [
    "\n",
    "\n",
    "init_X2 = torch.cat([normalize_x(X, space), init_X2])\n",
    "\n",
    "init_y2 = torch.cat([y, init_y2])"
   ]
  },
  {
   "cell_type": "code",
   "execution_count": 12,
   "metadata": {},
   "outputs": [],
   "source": [
    "\n",
    "def get_best_params(params, scores, space):\n",
    "    bounds = torch.tensor([var['domain'] for var in space]).to(params).t()\n",
    "    params = unnormalize(params, bounds)\n",
    "    \n",
    "    best_idx = np.argmin(scores.cpu().numpy())\n",
    "    \n",
    "    return wrap_X(params[[best_idx]], space)[0]"
   ]
  },
  {
   "cell_type": "code",
   "execution_count": null,
   "metadata": {},
   "outputs": [
    {
     "name": "stdout",
     "output_type": "stream",
     "text": [
      "Seed: 0 out of 100\n"
     ]
    },
    {
     "name": "stderr",
     "output_type": "stream",
     "text": [
      "  1%|          | 1/116 [00:13<26:29, 13.82s/it]"
     ]
    },
    {
     "name": "stdout",
     "output_type": "stream",
     "text": [
      "tensor([[127351.7353]], dtype=torch.float64)\n",
      "y_new= tensor([[127351.7353]], dtype=torch.float64)\n"
     ]
    },
    {
     "name": "stderr",
     "output_type": "stream",
     "text": [
      "  2%|▏         | 2/116 [00:27<26:36, 14.00s/it]"
     ]
    },
    {
     "name": "stdout",
     "output_type": "stream",
     "text": [
      "tensor([[137966.6821]], dtype=torch.float64)\n",
      "y_new= tensor([[137966.6821]], dtype=torch.float64)\n"
     ]
    },
    {
     "name": "stderr",
     "output_type": "stream",
     "text": [
      "  3%|▎         | 3/116 [00:42<26:27, 14.05s/it]"
     ]
    },
    {
     "name": "stdout",
     "output_type": "stream",
     "text": [
      "tensor([[137997.4207]], dtype=torch.float64)\n",
      "y_new= tensor([[137997.4207]], dtype=torch.float64)\n"
     ]
    },
    {
     "name": "stderr",
     "output_type": "stream",
     "text": [
      "  3%|▎         | 4/116 [00:56<26:13, 14.05s/it]"
     ]
    },
    {
     "name": "stdout",
     "output_type": "stream",
     "text": [
      "tensor([[148974.2501]], dtype=torch.float64)\n",
      "y_new= tensor([[148974.2501]], dtype=torch.float64)\n"
     ]
    },
    {
     "name": "stderr",
     "output_type": "stream",
     "text": [
      "  4%|▍         | 5/116 [01:09<25:39, 13.87s/it]"
     ]
    },
    {
     "name": "stdout",
     "output_type": "stream",
     "text": [
      "tensor([[124080.7179]], dtype=torch.float64)\n",
      "y_new= tensor([[124080.7179]], dtype=torch.float64)\n"
     ]
    },
    {
     "name": "stderr",
     "output_type": "stream",
     "text": [
      "  5%|▌         | 6/116 [01:23<25:18, 13.81s/it]"
     ]
    },
    {
     "name": "stdout",
     "output_type": "stream",
     "text": [
      "tensor([[119455.2393]], dtype=torch.float64)\n",
      "y_new= tensor([[119455.2393]], dtype=torch.float64)\n"
     ]
    },
    {
     "name": "stderr",
     "output_type": "stream",
     "text": [
      "  6%|▌         | 7/116 [01:36<24:55, 13.72s/it]"
     ]
    },
    {
     "name": "stdout",
     "output_type": "stream",
     "text": [
      "tensor([[131181.5640]], dtype=torch.float64)\n",
      "y_new= tensor([[131181.5640]], dtype=torch.float64)\n"
     ]
    },
    {
     "name": "stderr",
     "output_type": "stream",
     "text": [
      "  7%|▋         | 8/116 [01:50<24:35, 13.66s/it]"
     ]
    },
    {
     "name": "stdout",
     "output_type": "stream",
     "text": [
      "tensor([[135515.6128]], dtype=torch.float64)\n",
      "y_new= tensor([[135515.6128]], dtype=torch.float64)\n"
     ]
    },
    {
     "name": "stderr",
     "output_type": "stream",
     "text": [
      "  8%|▊         | 9/116 [02:03<24:18, 13.63s/it]"
     ]
    },
    {
     "name": "stdout",
     "output_type": "stream",
     "text": [
      "tensor([[146371.5665]], dtype=torch.float64)\n",
      "y_new= tensor([[146371.5665]], dtype=torch.float64)\n"
     ]
    },
    {
     "name": "stderr",
     "output_type": "stream",
     "text": [
      "  9%|▊         | 10/116 [02:17<24:03, 13.61s/it]"
     ]
    },
    {
     "name": "stdout",
     "output_type": "stream",
     "text": [
      "tensor([[120067.8780]], dtype=torch.float64)\n",
      "y_new= tensor([[120067.8780]], dtype=torch.float64)\n"
     ]
    },
    {
     "name": "stderr",
     "output_type": "stream",
     "text": [
      "  9%|▉         | 11/116 [02:31<23:47, 13.59s/it]"
     ]
    },
    {
     "name": "stdout",
     "output_type": "stream",
     "text": [
      "tensor([[130471.8666]], dtype=torch.float64)\n",
      "y_new= tensor([[130471.8666]], dtype=torch.float64)\n"
     ]
    },
    {
     "name": "stderr",
     "output_type": "stream",
     "text": [
      " 10%|█         | 12/116 [02:44<23:31, 13.57s/it]"
     ]
    },
    {
     "name": "stdout",
     "output_type": "stream",
     "text": [
      "tensor([[129644.9617]], dtype=torch.float64)\n",
      "y_new= tensor([[129644.9617]], dtype=torch.float64)\n"
     ]
    },
    {
     "name": "stderr",
     "output_type": "stream",
     "text": [
      " 11%|█         | 13/116 [02:59<23:55, 13.94s/it]"
     ]
    },
    {
     "name": "stdout",
     "output_type": "stream",
     "text": [
      "tensor([[161099.9319]], dtype=torch.float64)\n",
      "y_new= tensor([[161099.9319]], dtype=torch.float64)\n"
     ]
    },
    {
     "name": "stderr",
     "output_type": "stream",
     "text": [
      " 12%|█▏        | 14/116 [03:13<23:34, 13.87s/it]"
     ]
    },
    {
     "name": "stdout",
     "output_type": "stream",
     "text": [
      "tensor([[151249.7589]], dtype=torch.float64)\n",
      "y_new= tensor([[151249.7589]], dtype=torch.float64)\n"
     ]
    },
    {
     "name": "stderr",
     "output_type": "stream",
     "text": [
      " 13%|█▎        | 15/116 [03:27<23:47, 14.14s/it]"
     ]
    },
    {
     "name": "stdout",
     "output_type": "stream",
     "text": [
      "tensor([[143042.9141]], dtype=torch.float64)\n",
      "y_new= tensor([[143042.9141]], dtype=torch.float64)\n"
     ]
    },
    {
     "name": "stderr",
     "output_type": "stream",
     "text": [
      " 14%|█▍        | 16/116 [03:41<23:18, 13.99s/it]"
     ]
    },
    {
     "name": "stdout",
     "output_type": "stream",
     "text": [
      "tensor([[139368.7745]], dtype=torch.float64)\n",
      "y_new= tensor([[139368.7745]], dtype=torch.float64)\n"
     ]
    },
    {
     "name": "stderr",
     "output_type": "stream",
     "text": [
      " 15%|█▍        | 17/116 [03:55<22:54, 13.88s/it]"
     ]
    },
    {
     "name": "stdout",
     "output_type": "stream",
     "text": [
      "tensor([[134017.4995]], dtype=torch.float64)\n",
      "y_new= tensor([[134017.4995]], dtype=torch.float64)\n"
     ]
    },
    {
     "name": "stderr",
     "output_type": "stream",
     "text": [
      " 16%|█▌        | 18/116 [04:08<22:32, 13.81s/it]"
     ]
    },
    {
     "name": "stdout",
     "output_type": "stream",
     "text": [
      "tensor([[142360.1955]], dtype=torch.float64)\n",
      "y_new= tensor([[142360.1955]], dtype=torch.float64)\n"
     ]
    },
    {
     "name": "stderr",
     "output_type": "stream",
     "text": [
      " 16%|█▋        | 19/116 [04:22<22:17, 13.79s/it]"
     ]
    },
    {
     "name": "stdout",
     "output_type": "stream",
     "text": [
      "tensor([[145771.2071]], dtype=torch.float64)\n",
      "y_new= tensor([[145771.2071]], dtype=torch.float64)\n"
     ]
    },
    {
     "name": "stderr",
     "output_type": "stream",
     "text": [
      " 17%|█▋        | 20/116 [04:36<21:58, 13.74s/it]"
     ]
    },
    {
     "name": "stdout",
     "output_type": "stream",
     "text": [
      "tensor([[120806.6810]], dtype=torch.float64)\n",
      "y_new= tensor([[120806.6810]], dtype=torch.float64)\n"
     ]
    },
    {
     "name": "stderr",
     "output_type": "stream",
     "text": [
      " 18%|█▊        | 21/116 [04:49<21:40, 13.69s/it]"
     ]
    },
    {
     "name": "stdout",
     "output_type": "stream",
     "text": [
      "tensor([[151093.0108]], dtype=torch.float64)\n",
      "y_new= tensor([[151093.0108]], dtype=torch.float64)\n"
     ]
    },
    {
     "name": "stderr",
     "output_type": "stream",
     "text": [
      " 19%|█▉        | 22/116 [05:03<21:28, 13.71s/it]"
     ]
    },
    {
     "name": "stdout",
     "output_type": "stream",
     "text": [
      "tensor([[135308.7470]], dtype=torch.float64)\n",
      "y_new= tensor([[135308.7470]], dtype=torch.float64)\n"
     ]
    },
    {
     "name": "stderr",
     "output_type": "stream",
     "text": [
      " 20%|█▉        | 23/116 [05:17<21:11, 13.68s/it]"
     ]
    },
    {
     "name": "stdout",
     "output_type": "stream",
     "text": [
      "tensor([[121273.2927]], dtype=torch.float64)\n",
      "y_new= tensor([[121273.2927]], dtype=torch.float64)\n"
     ]
    },
    {
     "name": "stderr",
     "output_type": "stream",
     "text": [
      " 21%|██        | 24/116 [05:30<20:55, 13.64s/it]"
     ]
    },
    {
     "name": "stdout",
     "output_type": "stream",
     "text": [
      "tensor([[157311.9584]], dtype=torch.float64)\n",
      "y_new= tensor([[157311.9584]], dtype=torch.float64)\n"
     ]
    },
    {
     "name": "stderr",
     "output_type": "stream",
     "text": [
      " 22%|██▏       | 25/116 [05:44<20:42, 13.65s/it]"
     ]
    },
    {
     "name": "stdout",
     "output_type": "stream",
     "text": [
      "tensor([[116904.2723]], dtype=torch.float64)\n",
      "y_new= tensor([[116904.2723]], dtype=torch.float64)\n"
     ]
    },
    {
     "name": "stderr",
     "output_type": "stream",
     "text": [
      " 22%|██▏       | 26/116 [05:58<20:31, 13.68s/it]"
     ]
    },
    {
     "name": "stdout",
     "output_type": "stream",
     "text": [
      "tensor([[128254.6149]], dtype=torch.float64)\n",
      "y_new= tensor([[128254.6149]], dtype=torch.float64)\n"
     ]
    },
    {
     "name": "stderr",
     "output_type": "stream",
     "text": [
      " 23%|██▎       | 27/116 [06:11<20:18, 13.69s/it]"
     ]
    },
    {
     "name": "stdout",
     "output_type": "stream",
     "text": [
      "tensor([[117798.7193]], dtype=torch.float64)\n",
      "y_new= tensor([[117798.7193]], dtype=torch.float64)\n"
     ]
    },
    {
     "name": "stderr",
     "output_type": "stream",
     "text": [
      " 24%|██▍       | 28/116 [06:25<20:00, 13.64s/it]"
     ]
    },
    {
     "name": "stdout",
     "output_type": "stream",
     "text": [
      "tensor([[117786.7059]], dtype=torch.float64)\n",
      "y_new= tensor([[117786.7059]], dtype=torch.float64)\n"
     ]
    },
    {
     "name": "stderr",
     "output_type": "stream",
     "text": [
      " 25%|██▌       | 29/116 [06:38<19:43, 13.60s/it]"
     ]
    },
    {
     "name": "stdout",
     "output_type": "stream",
     "text": [
      "tensor([[118266.4834]], dtype=torch.float64)\n",
      "y_new= tensor([[118266.4834]], dtype=torch.float64)\n"
     ]
    },
    {
     "name": "stderr",
     "output_type": "stream",
     "text": [
      " 26%|██▌       | 30/116 [06:52<19:35, 13.67s/it]"
     ]
    },
    {
     "name": "stdout",
     "output_type": "stream",
     "text": [
      "tensor([[122238.7941]], dtype=torch.float64)\n",
      "y_new= tensor([[122238.7941]], dtype=torch.float64)\n"
     ]
    },
    {
     "name": "stderr",
     "output_type": "stream",
     "text": [
      " 27%|██▋       | 31/116 [07:06<19:19, 13.64s/it]"
     ]
    },
    {
     "name": "stdout",
     "output_type": "stream",
     "text": [
      "tensor([[119057.6378]], dtype=torch.float64)\n",
      "y_new= tensor([[119057.6378]], dtype=torch.float64)\n"
     ]
    },
    {
     "name": "stderr",
     "output_type": "stream",
     "text": [
      " 28%|██▊       | 32/116 [07:19<19:08, 13.68s/it]"
     ]
    },
    {
     "name": "stdout",
     "output_type": "stream",
     "text": [
      "tensor([[135646.9325]], dtype=torch.float64)\n",
      "y_new= tensor([[135646.9325]], dtype=torch.float64)\n"
     ]
    },
    {
     "name": "stderr",
     "output_type": "stream",
     "text": [
      " 28%|██▊       | 33/116 [07:33<18:53, 13.66s/it]"
     ]
    },
    {
     "name": "stdout",
     "output_type": "stream",
     "text": [
      "tensor([[139207.1345]], dtype=torch.float64)\n",
      "y_new= tensor([[139207.1345]], dtype=torch.float64)\n"
     ]
    },
    {
     "name": "stderr",
     "output_type": "stream",
     "text": [
      " 29%|██▉       | 34/116 [07:47<18:37, 13.63s/it]"
     ]
    },
    {
     "name": "stdout",
     "output_type": "stream",
     "text": [
      "tensor([[120472.6046]], dtype=torch.float64)\n",
      "y_new= tensor([[120472.6046]], dtype=torch.float64)\n"
     ]
    },
    {
     "name": "stderr",
     "output_type": "stream",
     "text": [
      " 30%|███       | 35/116 [08:00<18:24, 13.64s/it]"
     ]
    },
    {
     "name": "stdout",
     "output_type": "stream",
     "text": [
      "tensor([[124736.6601]], dtype=torch.float64)\n",
      "y_new= tensor([[124736.6601]], dtype=torch.float64)\n"
     ]
    },
    {
     "name": "stderr",
     "output_type": "stream",
     "text": [
      " 31%|███       | 36/116 [08:14<18:13, 13.67s/it]"
     ]
    },
    {
     "name": "stdout",
     "output_type": "stream",
     "text": [
      "tensor([[123851.7558]], dtype=torch.float64)\n",
      "y_new= tensor([[123851.7558]], dtype=torch.float64)\n"
     ]
    },
    {
     "name": "stderr",
     "output_type": "stream",
     "text": [
      " 32%|███▏      | 37/116 [08:28<17:59, 13.66s/it]"
     ]
    },
    {
     "name": "stdout",
     "output_type": "stream",
     "text": [
      "tensor([[123334.7060]], dtype=torch.float64)\n",
      "y_new= tensor([[123334.7060]], dtype=torch.float64)\n"
     ]
    },
    {
     "name": "stderr",
     "output_type": "stream",
     "text": [
      " 33%|███▎      | 38/116 [08:41<17:45, 13.66s/it]"
     ]
    },
    {
     "name": "stdout",
     "output_type": "stream",
     "text": [
      "tensor([[124850.6100]], dtype=torch.float64)\n",
      "y_new= tensor([[124850.6100]], dtype=torch.float64)\n"
     ]
    },
    {
     "name": "stderr",
     "output_type": "stream",
     "text": [
      " 34%|███▎      | 39/116 [08:55<17:31, 13.66s/it]"
     ]
    },
    {
     "name": "stdout",
     "output_type": "stream",
     "text": [
      "tensor([[125363.0529]], dtype=torch.float64)\n",
      "y_new= tensor([[125363.0529]], dtype=torch.float64)\n"
     ]
    },
    {
     "name": "stderr",
     "output_type": "stream",
     "text": [
      " 34%|███▍      | 40/116 [09:09<17:15, 13.62s/it]"
     ]
    },
    {
     "name": "stdout",
     "output_type": "stream",
     "text": [
      "tensor([[118763.8664]], dtype=torch.float64)\n",
      "y_new= tensor([[118763.8664]], dtype=torch.float64)\n"
     ]
    },
    {
     "name": "stderr",
     "output_type": "stream",
     "text": [
      " 35%|███▌      | 41/116 [09:22<17:00, 13.61s/it]"
     ]
    },
    {
     "name": "stdout",
     "output_type": "stream",
     "text": [
      "tensor([[119001.0350]], dtype=torch.float64)\n",
      "y_new= tensor([[119001.0350]], dtype=torch.float64)\n"
     ]
    },
    {
     "name": "stderr",
     "output_type": "stream",
     "text": [
      " 36%|███▌      | 42/116 [09:37<17:12, 13.96s/it]"
     ]
    },
    {
     "name": "stdout",
     "output_type": "stream",
     "text": [
      "tensor([[118400.6257]], dtype=torch.float64)\n",
      "y_new= tensor([[118400.6257]], dtype=torch.float64)\n"
     ]
    },
    {
     "name": "stderr",
     "output_type": "stream",
     "text": [
      " 37%|███▋      | 43/116 [09:51<16:52, 13.86s/it]"
     ]
    },
    {
     "name": "stdout",
     "output_type": "stream",
     "text": [
      "tensor([[116937.2945]], dtype=torch.float64)\n",
      "y_new= tensor([[116937.2945]], dtype=torch.float64)\n"
     ]
    },
    {
     "name": "stderr",
     "output_type": "stream",
     "text": [
      " 38%|███▊      | 44/116 [10:04<16:32, 13.79s/it]"
     ]
    },
    {
     "name": "stdout",
     "output_type": "stream",
     "text": [
      "tensor([[120492.2001]], dtype=torch.float64)\n",
      "y_new= tensor([[120492.2001]], dtype=torch.float64)\n"
     ]
    },
    {
     "name": "stderr",
     "output_type": "stream",
     "text": [
      " 38%|███▊      | 44/116 [10:18<16:51, 14.05s/it]"
     ]
    },
    {
     "name": "stdout",
     "output_type": "stream",
     "text": [
      "tensor([[119582.3297]], dtype=torch.float64)\n",
      "y_new= tensor([[119582.3297]], dtype=torch.float64)\n",
      "Termination criterion met: No improvement for 20 consecutive iterations.\n",
      "150038.2643\n",
      "150038.2643\n",
      "150038.2643\n",
      "150038.2643\n",
      "150038.2643\n",
      "150038.2643\n",
      "150038.2643\n",
      "150038.2643\n",
      "150038.2643\n",
      "150038.2643\n",
      "150038.2643\n",
      "150038.2643\n",
      "150038.2643\n",
      "150038.2643\n",
      "150038.2643\n",
      "150038.2643\n",
      "127351.7353406761\n",
      "127351.7353406761\n",
      "127351.7353406761\n",
      "127351.7353406761\n",
      "124080.71792865843\n",
      "119455.23934562795\n",
      "119455.23934562795\n",
      "119455.23934562795\n",
      "119455.23934562795\n",
      "119455.23934562795\n",
      "119455.23934562795\n",
      "119455.23934562795\n",
      "119455.23934562795\n",
      "119455.23934562795\n",
      "119455.23934562795\n",
      "119455.23934562795\n",
      "119455.23934562795\n",
      "119455.23934562795\n",
      "119455.23934562795\n",
      "119455.23934562795\n",
      "119455.23934562795\n",
      "119455.23934562795\n",
      "119455.23934562795\n",
      "119455.23934562795\n",
      "116904.27231921421\n",
      "116904.27231921421\n",
      "116904.27231921421\n",
      "116904.27231921421\n",
      "116904.27231921421\n",
      "116904.27231921421\n",
      "116904.27231921421\n",
      "116904.27231921421\n",
      "116904.27231921421\n",
      "116904.27231921421\n",
      "116904.27231921421\n",
      "116904.27231921421\n",
      "116904.27231921421\n",
      "116904.27231921421\n",
      "116904.27231921421\n",
      "116904.27231921421\n",
      "116904.27231921421\n",
      "116904.27231921421\n",
      "116904.27231921421\n",
      "116904.27231921421\n",
      "116904.27231921421\n",
      "Execution time: 618.2439227104187 seconds\n"
     ]
    },
    {
     "name": "stderr",
     "output_type": "stream",
     "text": [
      "\n"
     ]
    }
   ],
   "source": [
    "from botorch.acquisition import (ExpectedImprovement, PosteriorMean,\n",
    "                                 ProbabilityOfImprovement,\n",
    "                                 UpperConfidenceBound, qKnowledgeGradient)\n",
    "from botorch.acquisition.max_value_entropy_search import qMaxValueEntropy\n",
    "from botorch.sampling import SobolQMCNormalSampler\n",
    "from botorch.acquisition.max_value_entropy_search import qMaxValueEntropy\n",
    "import cProfile\n",
    "import pstats\n",
    "import time\n",
    "\n",
    "start_time = time.time()\n",
    "cum_best_df = pd.DataFrame()\n",
    "best_params_df = pd.DataFrame()\n",
    "\n",
    "for i in range(0, 10,10) :\n",
    "    print('Seed:', i, 'out of 100')\n",
    "    torch.manual_seed(i)\n",
    "\n",
    "\n",
    "\n",
    "    params = init_X2\n",
    "\n",
    "    scores = init_y2\n",
    "\n",
    "    state_dict = None\n",
    "\n",
    "    budget = 116\n",
    "\n",
    "    objective = lambda x: superpro(x, space)\n",
    "\n",
    "    # Initialize the counter for consecutive iterations without improvement\n",
    "    no_improvement_count = 0\n",
    "    consecutive_iterations_threshold = 20  # Threshold for consecutive iterations without improvement\n",
    "\n",
    "    best_score = float('+inf')  # Initialize the best score to a very low number\n",
    "\n",
    "    with tqdm.tqdm(total=budget) as bar:\n",
    "        while len(scores) < budget:\n",
    "            n_samples = len(scores)\n",
    "        \n",
    "            # Assuming the rest of your optimization code goes here and updates `scores`\n",
    "            GP = SingleTaskGP\n",
    "        \n",
    "\n",
    "\n",
    "        \n",
    "            acquisition = lambda gp: UpperConfidenceBound(gp, beta=15, maximize=False)\n",
    "        \n",
    "\n",
    "            params, scores, gp = bo_step(params, scores, objective, bounds_01,\n",
    "                                     GP=GP, acquisition=acquisition\n",
    "                                     )\n",
    "\n",
    "            current_best_score = scores.min().item()  # Get the current best score\n",
    "        \n",
    "            # Check if there is an improvement\n",
    "            if current_best_score < best_score:\n",
    "                best_score = current_best_score  # Update the best score\n",
    "                no_improvement_count = 0  # Reset the counter since there was an improvement\n",
    "            else:\n",
    "                no_improvement_count += 1  # Increment the counter\n",
    "        \n",
    "            # Terminate if the number of consecutive iterations without improvement\n",
    "            # reaches the threshold\n",
    "            if no_improvement_count >= consecutive_iterations_threshold:\n",
    "                print(\"Termination criterion met: No improvement for 20 consecutive iterations.\")\n",
    "                break  # Terminate the loop\n",
    "        \n",
    "            bar.update(len(scores) - n_samples)\n",
    "\n",
    "\n",
    "            #print(scores)\n",
    "        import sys\n",
    "\n",
    "        cum_best = np.minimum.accumulate(scores.cpu().numpy())\n",
    "\n",
    "        # Create a temporary DataFrame from `cum_best` and reindex `cum_best_df` to ensure it's long enough\n",
    "        temp_df = pd.DataFrame({f'{i}': cum_best.squeeze()})\n",
    "        cum_best_df = cum_best_df.reindex(index=range(max(len(cum_best_df), len(temp_df)))).assign(**temp_df)\n",
    "        best_param = get_best_params(params, scores, space)\n",
    "        best_param_values = list(best_param.values())\n",
    "        best_params_df[f'{i}'] = pd.Series(best_param_values)\n",
    "\n",
    "        np.set_printoptions(threshold=sys.maxsize)\n",
    "        a= cum_best.squeeze()\n",
    "        for j in range(len(a)):\n",
    "            print(a[j])\n",
    "\n",
    "\n",
    "end_time = time.time()\n",
    "execution_time = end_time - start_time\n",
    "print(f\"Execution time: {execution_time} seconds\")"
   ]
  },
  {
   "cell_type": "code",
   "execution_count": null,
   "metadata": {},
   "outputs": [
    {
     "name": "stdout",
     "output_type": "stream",
     "text": [
      "seed_time: 43200.0\n",
      "\n",
      "batch_seed: 0.03067597560584545\n",
      "\n",
      "main_time: 64800.0\n",
      "\n",
      "fed_batch: 0.019087500870227814\n",
      "\n",
      "batch_med: 0.102253258228302\n",
      "\n",
      "conversion_main: 0.8999999761581421\n",
      "\n",
      "res_vol: 0.2890358567237854\n",
      "\n",
      "dia1: 10\n",
      "\n",
      "dia2: 10\n",
      "\n",
      "flush2: 0.0006699999794363976\n",
      "\n",
      "Optimum 118373.70350390689\n"
     ]
    },
    {
     "data": {
      "image/png": "[encoded data removed]",
      "text/plain": [
       "<Figure size 900x450 with 2 Axes>"
      ]
     },
     "metadata": {},
     "output_type": "display_data"
    }
   ],
   "source": [
    "#=============================================================RESULTS==============================================================\n",
    "for key, value in best_param.items():\n",
    "        print(f'{key}: {value}\\n')\n",
    "    \n",
    "print('Optimum', scores.min().item())\n",
    "\n",
    "utils.plot_convergence(params, scores, maximize=False)\n",
    "\n"
   ]
  },
  {
   "cell_type": "code",
   "execution_count": null,
   "metadata": {},
   "outputs": [
    {
     "name": "stdout",
     "output_type": "stream",
     "text": [
      "45758652.16\n",
      "45758652.16\n",
      "45758652.16\n",
      "45758652.16\n",
      "45758652.16\n",
      "45758652.16\n",
      "45758652.16\n",
      "45758652.16\n",
      "45758652.16\n",
      "45758652.16\n",
      "45758652.16\n",
      "45758652.16\n",
      "45758652.16\n",
      "45758652.16\n",
      "45758652.16\n",
      "45758652.16\n",
      "39528233.010238655\n",
      "39528233.010238655\n",
      "39528233.010238655\n",
      "39528233.010238655\n",
      "39528233.010238655\n",
      "39528233.010238655\n",
      "39528233.010238655\n",
      "39528233.010238655\n",
      "39528233.010238655\n",
      "39528233.010238655\n",
      "39528233.010238655\n",
      "39528233.010238655\n",
      "39528233.010238655\n",
      "39528233.010238655\n",
      "39528233.010238655\n",
      "39528233.010238655\n",
      "39528233.010238655\n",
      "39528233.010238655\n",
      "39528233.010238655\n",
      "39528233.010238655\n",
      "39528233.010238655\n"
     ]
    }
   ],
   "source": [
    "cum_best = np.minimum.accumulate(scores.cpu().numpy())"
   ]
  }
 ],
 "metadata": {
  "kernelspec": {
   "display_name": "Python 3 (ipykernel)",
   "language": "python",
   "name": "python3"
  },
  "language_info": {
   "codemirror_mode": {
    "name": "ipython",
    "version": 3
   },
   "file_extension": ".py",
   "mimetype": "text/x-python",
   "name": "python",
   "nbconvert_exporter": "python",
   "pygments_lexer": "ipython3",
   "version": "3.11.5"
  },
  "vscode": {
   "interpreter": {
    "hash": "2788fb9d5675b44d2f2df23377ba4fb00c0c6d159a9eeaed96789bf0470f2ecc"
   }
  }
 },
 "nbformat": 4,
 "nbformat_minor": 2
}
